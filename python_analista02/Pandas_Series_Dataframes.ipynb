{
  "cells": [
    {
      "cell_type": "markdown",
      "metadata": {
        "id": "GMnMA56N2x9P"
      },
      "source": [
        "### Precisamos antes de tudo, importar a biblioteca. É um padrão abreviar o nome da biblioteca para 'pd' por meio de um alias."
      ]
    },
    {
      "cell_type": "code",
      "execution_count": 2,
      "metadata": {
        "id": "Zoj-OXI72rN0"
      },
      "outputs": [],
      "source": [
        "import pandas as pd\n",
        "import matplotlib as mt\n",
        "import numpy as np"
      ]
    },
    {
      "cell_type": "markdown",
      "metadata": {
        "id": "aFa0gl1ekG_c"
      },
      "source": [
        "# Séries - Análise Unidimensional"
      ]
    },
    {
      "cell_type": "markdown",
      "metadata": {
        "id": "vV7Fy1V6k0jB"
      },
      "source": [
        "### Uma série em pandas representa uma estrutura unidimensional, junto a um índice."
      ]
    },
    {
      "cell_type": "markdown",
      "metadata": {
        "id": "OnI0i4GslQBe"
      },
      "source": [
        "Vamos criar uma série números múltiplos de 10."
      ]
    },
    {
      "cell_type": "code",
      "execution_count": null,
      "metadata": {
        "id": "QaSMlnJvkOtA"
      },
      "outputs": [],
      "source": [
        "serie = pd.Series([10, 20, 30, 40, 50, 60, 70, 80, 90])"
      ]
    },
    {
      "cell_type": "markdown",
      "metadata": {
        "id": "url99REXloVV"
      },
      "source": [
        "Podemos usar os métodos Head e Tail para ler os primeiros e últimos elementos em uma série"
      ]
    },
    {
      "cell_type": "code",
      "execution_count": null,
      "metadata": {
        "id": "fp25sNFFlCrS"
      },
      "outputs": [],
      "source": [
        "serie.head()"
      ]
    },
    {
      "cell_type": "code",
      "execution_count": null,
      "metadata": {
        "id": "_QHfbBll5kKz"
      },
      "outputs": [],
      "source": [
        "serie.tail()"
      ]
    },
    {
      "cell_type": "code",
      "execution_count": null,
      "metadata": {
        "id": "5wNVY4HZ3Ltt"
      },
      "outputs": [],
      "source": [
        "print(serie)"
      ]
    },
    {
      "cell_type": "markdown",
      "metadata": {
        "id": "L0SAQB5rnq66"
      },
      "source": [
        "Em arquivos do tipo ipynb (notebooks), é possível utilizar também o método display para exibir os dados."
      ]
    },
    {
      "cell_type": "code",
      "execution_count": null,
      "metadata": {
        "id": "XA_VhAdDnxMV"
      },
      "outputs": [],
      "source": [
        "display(serie)"
      ]
    },
    {
      "cell_type": "markdown",
      "metadata": {
        "id": "qs_4EQCb5BYz"
      },
      "source": [
        "Podemos acessar elementos da série através dos seus índices, assim como é feito nas listas."
      ]
    },
    {
      "cell_type": "code",
      "execution_count": null,
      "metadata": {
        "id": "G04wEj1C5G6P"
      },
      "outputs": [],
      "source": [
        "print(serie[3])"
      ]
    },
    {
      "cell_type": "code",
      "execution_count": null,
      "metadata": {
        "id": "MJhVfqQJ5SHl"
      },
      "outputs": [],
      "source": [
        "display(serie[4:7])"
      ]
    },
    {
      "cell_type": "markdown",
      "metadata": {
        "id": "GR2oY63Cn5WZ"
      },
      "source": [
        "Podemos obter informações estatísticas básicas a partir da série."
      ]
    },
    {
      "cell_type": "code",
      "execution_count": null,
      "metadata": {
        "id": "RLUXB_yI4ZlG"
      },
      "outputs": [],
      "source": [
        "serie.describe()"
      ]
    },
    {
      "cell_type": "markdown",
      "metadata": {
        "id": "Fb7quGf-1s9d"
      },
      "source": [
        "Média Aritimética (Soma de todos elementos dividido pela quantidade de elementos)"
      ]
    },
    {
      "cell_type": "code",
      "execution_count": null,
      "metadata": {
        "id": "EAd_6sYL2j2f"
      },
      "outputs": [],
      "source": [
        "tamanho = serie.size\n",
        "print(f'Total de Elementos: {tamanho}')"
      ]
    },
    {
      "cell_type": "code",
      "execution_count": null,
      "metadata": {
        "id": "OvOvYFnioC_d"
      },
      "outputs": [],
      "source": [
        "media = serie.mean()\n",
        "print(f'Média: {media}')"
      ]
    },
    {
      "cell_type": "markdown",
      "metadata": {
        "id": "EWyu2kvo13fA"
      },
      "source": [
        "Maior Valor"
      ]
    },
    {
      "cell_type": "code",
      "execution_count": null,
      "metadata": {
        "id": "8CTTy7Skpc5n"
      },
      "outputs": [],
      "source": [
        "maximo = serie.max()\n",
        "print(f'Maior Valor: {maximo}')"
      ]
    },
    {
      "cell_type": "markdown",
      "metadata": {
        "id": "FlAj0ZVD14ns"
      },
      "source": [
        "Menor Valor"
      ]
    },
    {
      "cell_type": "code",
      "execution_count": null,
      "metadata": {
        "id": "zpWRBvr_piOT"
      },
      "outputs": [],
      "source": [
        "minimo = serie.min()\n",
        "print(f'Menor Valor: {minimo}')"
      ]
    },
    {
      "cell_type": "markdown",
      "metadata": {
        "id": "FN3R7VUq17AA"
      },
      "source": [
        "A Mediana, o elemento localizado no centro ao considerar a série ordenada em ordem crescente."
      ]
    },
    {
      "cell_type": "code",
      "execution_count": null,
      "metadata": {
        "id": "sUtfWs_2ppyJ"
      },
      "outputs": [],
      "source": [
        "mediana = serie.median()\n",
        "print(f'Mediana: {mediana}')"
      ]
    },
    {
      "cell_type": "markdown",
      "metadata": {
        "id": "qEom9dwh1cmX"
      },
      "source": [
        "Vamos adicionar mais um elemento no próximo índice da série"
      ]
    },
    {
      "cell_type": "code",
      "execution_count": null,
      "metadata": {
        "id": "AoaBbWAb1KqA"
      },
      "outputs": [],
      "source": [
        "serie[9] = 100\n",
        "print(serie)"
      ]
    },
    {
      "cell_type": "markdown",
      "metadata": {
        "id": "ZOEsUzxm3SjH"
      },
      "source": [
        "Se a mediana é o elemento central, como calculá-la em um cojunto de elementos com número de itens par?"
      ]
    },
    {
      "cell_type": "code",
      "execution_count": null,
      "metadata": {
        "id": "vZeXgkPs3SOX"
      },
      "outputs": [],
      "source": [
        "mediana = serie.median()\n",
        "print(f'Mediana: {mediana}')"
      ]
    },
    {
      "cell_type": "markdown",
      "metadata": {
        "id": "z72HDlASTndl"
      },
      "source": [
        "É possível realizar ações de filtragem na série"
      ]
    },
    {
      "cell_type": "code",
      "execution_count": null,
      "metadata": {
        "id": "1bLWu5fzUA_0"
      },
      "outputs": [],
      "source": [
        "display(serie[serie > 30])"
      ]
    },
    {
      "cell_type": "code",
      "execution_count": null,
      "metadata": {
        "id": "bt-c8776USs6"
      },
      "outputs": [],
      "source": [
        "display(serie[serie % 3 == 0])"
      ]
    },
    {
      "cell_type": "code",
      "execution_count": null,
      "metadata": {
        "id": "JH6r0S6tUZ_x"
      },
      "outputs": [],
      "source": [
        "display(serie[serie > serie.mean()])"
      ]
    },
    {
      "cell_type": "markdown",
      "metadata": {
        "id": "xfrsbBRsD1W5"
      },
      "source": [
        "Podemos também, aplicar cálculos para todos os elementos das séries"
      ]
    },
    {
      "cell_type": "code",
      "execution_count": null,
      "metadata": {
        "id": "BxNQOzonD01T"
      },
      "outputs": [],
      "source": [
        "serie_metade = serie/2\n",
        "\n",
        "display(serie_metade)"
      ]
    },
    {
      "cell_type": "markdown",
      "metadata": {
        "id": "4YP4C3UfEJce"
      },
      "source": [
        "E também fazer operações entre duas séries. Nesse caso, o índice é utilizado como referência para correlacionar os registros"
      ]
    },
    {
      "cell_type": "code",
      "execution_count": null,
      "metadata": {
        "id": "JM7dHF0BEI5o"
      },
      "outputs": [],
      "source": [
        "display(serie + serie_metade)"
      ]
    },
    {
      "cell_type": "markdown",
      "metadata": {
        "id": "QlViTDPh4KGB"
      },
      "source": [
        "Se o número de elementos for par, a mediana é a média aritmética dos dois valores centrais."
      ]
    },
    {
      "cell_type": "markdown",
      "metadata": {
        "id": "4RBXmH3U9X6B"
      },
      "source": [
        "### Além dos índices numéricos autoincrementais, é possível fornecer um conjunto de índices customizado, que pode ser utilizado para acrescentar informações à análise."
      ]
    },
    {
      "cell_type": "markdown",
      "metadata": {
        "id": "RH9ICeF09462"
      },
      "source": [
        "Vamos criar uma série com as temperaturas médias por mês do ano em Petrópolis.\n",
        "\n",
        "Fonte: https://www.climatempo.com.br/previsao-do-tempo/15-dias/cidade/317/petropolis-rj"
      ]
    },
    {
      "cell_type": "code",
      "execution_count": null,
      "metadata": {
        "id": "D3ud8c7R9Rke"
      },
      "outputs": [],
      "source": [
        "temperatura_minima = {'13/05': 13,\n",
        "                     '14/05': 12,\n",
        "                     '15/05': 15,\n",
        "                     '16/05': 14,\n",
        "                     '17/05': 14,\n",
        "                     '18/05': 15,\n",
        "                     '19/05': 14,\n",
        "                     '20/05': 15,\n",
        "                     '21/05': 16,\n",
        "                     '22/05': 16}"
      ]
    },
    {
      "cell_type": "code",
      "execution_count": null,
      "metadata": {
        "id": "ximKEaIO_jdJ"
      },
      "outputs": [],
      "source": [
        "temperatura_min = pd.Series(temperatura_minima)"
      ]
    },
    {
      "cell_type": "code",
      "execution_count": null,
      "metadata": {
        "id": "DuO0hxm2_m7P"
      },
      "outputs": [],
      "source": [
        "temperatura_min.head()"
      ]
    },
    {
      "cell_type": "code",
      "execution_count": null,
      "metadata": {
        "id": "OtyGd_o9_qOk"
      },
      "outputs": [],
      "source": [
        "temperatura_min.describe()"
      ]
    },
    {
      "cell_type": "markdown",
      "metadata": {
        "id": "H7vAVZyyAyWV"
      },
      "source": [
        "Ou até mesmo, acessar diretamente pelos índices"
      ]
    },
    {
      "cell_type": "code",
      "execution_count": null,
      "metadata": {
        "id": "uXXdomEZAxyp"
      },
      "outputs": [],
      "source": [
        "temperatura_min[['14/05','18/05','20/05','22/05']]"
      ]
    },
    {
      "cell_type": "markdown",
      "metadata": {
        "id": "XovzKxNiDKXa"
      },
      "source": [
        "Ainda é possível buscar por posição, através do método iLoc"
      ]
    },
    {
      "cell_type": "code",
      "execution_count": null,
      "metadata": {
        "id": "qRuFRuYYDJU2"
      },
      "outputs": [],
      "source": [
        "temperatura_min.iloc[0:3]"
      ]
    },
    {
      "cell_type": "markdown",
      "metadata": {
        "id": "zYPZJcrt6cNk"
      },
      "source": [
        "Podemos também usar o método Plot para gerar visualizacoes sobre os dados"
      ]
    },
    {
      "cell_type": "code",
      "execution_count": null,
      "metadata": {
        "id": "o_Usvz_lDC6J"
      },
      "outputs": [],
      "source": [
        "temperatura_min.plot()"
      ]
    },
    {
      "cell_type": "code",
      "execution_count": null,
      "metadata": {
        "id": "vnCAGfwC6ID-"
      },
      "outputs": [],
      "source": [
        "temperatura_min.plot(kind='bar')"
      ]
    },
    {
      "cell_type": "markdown",
      "metadata": {
        "id": "DBhghsqsVK1_"
      },
      "source": [
        "## **Prática**\n",
        "\n",
        "A partir do conjunto de dados de temperaturas mínimas do exemplo, junto ao conjunto de dados a seguir de temperaturas máximas, mais as regras de negócios fornecidas resolva a seguinte questão. Utilize Series Pandas e demais conhecimentos de python aprendidos.\n",
        "\n",
        "Seu objetivo é ajudar um turista a planejar quais roupas deverá usar ou levar ao sair de casa para passar um dia inteiro de outono em Petrópolis, as regras são as seguintes:\n",
        "\n",
        "\n",
        "*   **Casaco**: se a temperatura mínima do dia for menor que 16ºc\n",
        "*   **Gorro**: se a temperatura mínima do dia for menor que a média de temperaturas mínimas\n",
        "*   **Mochila**: quando a amplitude térmica for maior ou igual a 5ºc, será necessário levar uma mochila para guardar as roupas de frio\n",
        "*   **Bermuda**: Se a temperatura máxima for pelo menos 22ºc e a mínima for acima das médias de temperaturas mínimas\n",
        "*   **Luvas**: Se a temperatura mínima for a menor do período analisado\n",
        "\n",
        "##Regras\n",
        "* *Amplitude Térmica*: Diferença entre a maior a menor temperatura em um período analisado. Nesse caso, estamos analisando por dia. (Máxima Dia - Mínima Dia)\n",
        "* *Efeito Chuva*: Se chover, a sensação térmica ficará menor, com isso, todas as temperaturas serão consideradas 2ºc menores, tanto para máximas quanto para mínimas.\n",
        "\n",
        "\n",
        "**Crie scripts para responder as seguintes questões**\n",
        "\n",
        "1.   Se as temperaturas mínimas e máximas oscilarem 1ºc para cima em todos os dias, quantos dias o turista será recomendado a usar bermuda?\n",
        "2.   Em quais dias será necessário levar mochila?\n",
        "3.   Em algum dos dias o Turista será indicado a usar tanto bermuda quanto luvas?\n",
        "4.   Quais serão os itens indicados para o dia 17/05?\n",
        "5.   Em quais dias, que normalmente não necessitariam o uso de casaco, o item passaria a ser necessário em caso de chuva?\n",
        "6.   Gere um gráfico com a evolução da amplitude térmica.\n",
        "7.   Gere um gráfico que retorne quantas vezes cada item será utilizado."
      ]
    },
    {
      "cell_type": "code",
      "execution_count": null,
      "metadata": {
        "id": "RWRpNeNEUtiC"
      },
      "outputs": [],
      "source": [
        "temperatura_maxima = {'13/05': 21,\n",
        "                     '14/05': 20,\n",
        "                     '15/05': 21,\n",
        "                     '16/05': 22,\n",
        "                     '17/05': 23,\n",
        "                     '18/05': 22,\n",
        "                     '19/05': 23,\n",
        "                     '20/05': 23,\n",
        "                     '21/05': 25,\n",
        "                     '22/05': 25}"
      ]
    },
    {
      "cell_type": "code",
      "execution_count": null,
      "metadata": {
        "id": "AzqISN8czgin"
      },
      "outputs": [],
      "source": [
        "temperatura_min = pd.Series(temperatura_minima)\n",
        "print(f'Essas são as temperaturas mínimas para os próximos 10 dias:\\n{temperatura_min}')\n",
        "temperatura_max = pd.Series(temperatura_maxima)\n",
        "print(f'\\nEssas são as temperaturas máximas para os próximos 10 dias:\\n{temperatura_max}')"
      ]
    },
    {
      "cell_type": "code",
      "execution_count": null,
      "metadata": {
        "id": "_93gYdGZzgin"
      },
      "outputs": [],
      "source": [
        "#Amplitude Térmica\n",
        "amp_term = (temperatura_max-temperatura_min)\n",
        "amp_term_serie = pd.Series(amp_term)\n",
        "print(f'Essa é a amplitude (variação) térmica para os próximos 10 dias:\\n{amp_term_serie}')"
      ]
    },
    {
      "cell_type": "markdown",
      "metadata": {
        "id": "dC0vCuk6zgin"
      },
      "source": [
        "## Exercício 1\n",
        "Se as temperaturas mínimas e máximas oscilarem 1ºc para cima em todos os dias, quantos dias o turista será recomendado a usar bermuda?"
      ]
    },
    {
      "cell_type": "code",
      "execution_count": null,
      "metadata": {
        "id": "As2TbWK2zgio",
        "outputId": "e52921b8-3d9a-492b-f550-9713bb6c4721"
      },
      "outputs": [
        {
          "name": "stdout",
          "output_type": "stream",
          "text": [
            "Essa é a temperatura mínima dos próximos 10 dias com variação de 1ºC:\n",
            "13/05    14\n",
            "14/05    13\n",
            "15/05    16\n",
            "16/05    15\n",
            "17/05    15\n",
            "18/05    16\n",
            "19/05    15\n",
            "20/05    16\n",
            "21/05    17\n",
            "22/05    17\n",
            "dtype: int64\n"
          ]
        }
      ],
      "source": [
        "#Temperatura Mínima Alterada (variação de 1ºC)\n",
        "temp_min_alt = temperatura_min+1\n",
        "min_alt_serie = pd.Series(temp_min_alt)\n",
        "print(f'Essa é a temperatura mínima dos próximos 10 dias com variação de 1ºC:\\n{min_alt_serie}')"
      ]
    },
    {
      "cell_type": "code",
      "execution_count": null,
      "metadata": {
        "id": "NiWVzW7ozgio"
      },
      "outputs": [],
      "source": [
        "#Temperatura Máxima Alterada (variação de 1ºC)\n",
        "temp_max_alt = temperatura_max+1\n",
        "max_alt_serie = pd.Series(temp_max_alt)\n",
        "print(f'Essa é a temperatura máxima dos próximos 10 dias com variação de 1ºC:\\n{max_alt_serie}')"
      ]
    },
    {
      "cell_type": "code",
      "execution_count": null,
      "metadata": {
        "id": "Qj1U1er8zgio"
      },
      "outputs": [],
      "source": [
        "\n",
        "#Temperatura mínima média alterada (variação de 1ºC)\n",
        "media_min_alt = temp_min_alt.mean()\n",
        "print(media_min_alt)\n"
      ]
    },
    {
      "cell_type": "code",
      "execution_count": null,
      "metadata": {
        "id": "iZ5D7ywEzgio",
        "outputId": "1a3901e7-8f22-49c0-fa35-2ec62ce17ab8"
      },
      "outputs": [
        {
          "name": "stdout",
          "output_type": "stream",
          "text": [
            "Se as temperaturas mínimas e máximas subirem em 1ºC você poderá usar bermuda 5 dias dessa semana\n"
          ]
        }
      ],
      "source": [
        "#Condicionais do uso de bermuda\n",
        "cond_bermuda_alt = (temp_min_alt > media_min_alt) & (temp_max_alt >= 22)\n",
        "\n",
        "#Imprimir a quantidade de dias que atendem as condições para usar bermuda\n",
        "print(f'Se as temperaturas mínimas e máximas subirem em 1ºC você poderá usar bermuda {temp_min_alt.index[cond_bermuda_alt].size} dias dessa semana')\n"
      ]
    },
    {
      "cell_type": "markdown",
      "metadata": {
        "id": "rFakgYl1zgio"
      },
      "source": [
        "## Exercício 2\n",
        "Em quais dias será necessário levar mochila?"
      ]
    },
    {
      "cell_type": "code",
      "execution_count": null,
      "metadata": {
        "id": "x_RwXwcazgio",
        "outputId": "abbc116e-dece-46bf-dd0a-5eac3dcc19f8"
      },
      "outputs": [
        {
          "name": "stdout",
          "output_type": "stream",
          "text": [
            "É aconselhável que você leve mochila nos seguintes dias: 13/05, 14/05, 15/05, 16/05, 17/05, 18/05, 19/05, 20/05, 21/05, 22/05\n"
          ]
        }
      ],
      "source": [
        "#Condicionais para levar mochila\n",
        "cond_mochila = amp_term_serie >5\n",
        "\n",
        "#Imprimir os dias que atendem as condições de bermuda\n",
        "print(f'É aconselhável que você leve mochila nos seguintes dias: {\", \".join(amp_term_serie.index.to_list())}')"
      ]
    },
    {
      "cell_type": "markdown",
      "metadata": {
        "id": "DcePh2OSzgio"
      },
      "source": [
        "## Exercício 3\n",
        "Em algum dos dias o Turista será indicado a usar tanto bermuda quanto luvas?"
      ]
    },
    {
      "cell_type": "code",
      "execution_count": null,
      "metadata": {
        "id": "A8PXpmslzgio",
        "outputId": "eef02672-c847-448e-dfe9-97b7d0bbfb1c"
      },
      "outputs": [
        {
          "name": "stdout",
          "output_type": "stream",
          "text": [
            "Você precisará usar luva e bermuda um total de 0 dias\n"
          ]
        }
      ],
      "source": [
        "#Condicionais do uso de bermuda\n",
        "cond_bermuda = (temperatura_min > temperatura_min.mean()) & (temperatura_max >= 22)\n",
        "\n",
        "#Condicionais para bermuda e luva\n",
        "cond_berm_luva = (cond_bermuda) & (temperatura_min.min())\n",
        "\n",
        "#Imprimir os dias que atendem as condições de bermuda e luva\n",
        "print(f'Você precisará usar luva e bermuda um total de {cond_berm_luva[cond_berm_luva == True].size} dias')"
      ]
    },
    {
      "cell_type": "markdown",
      "metadata": {
        "id": "gjP8qOblzgio"
      },
      "source": [
        "## Exercício 4\n",
        "Quais serão os itens indicados para o dia 17/05?"
      ]
    },
    {
      "cell_type": "code",
      "execution_count": null,
      "metadata": {
        "id": "HvaUv1Njzgio",
        "outputId": "cddaea39-8e95-45d5-ed2d-d3bfe2e98a83"
      },
      "outputs": [
        {
          "name": "stdout",
          "output_type": "stream",
          "text": [
            "No 17/05 você deverá utilizar mochila, casaco, gorro\n"
          ]
        }
      ],
      "source": [
        "#Dia a ser procurado\n",
        "dia_buscado = '17/05'\n",
        "\n",
        "#Condicionais das peças\n",
        "condicionais = {\n",
        "    'bermuda': bool(temperatura_max[dia_buscado] >= 22 and temperatura_min[dia_buscado] > temperatura_min.mean()),\n",
        "    'mochila': bool(amp_term_serie[dia_buscado] >5),\n",
        "    'luva': bool(temperatura_min[dia_buscado] == temperatura_min.min()),\n",
        "    'casaco': bool(temperatura_min[dia_buscado] < 16),\n",
        "    'gorro': bool(temperatura_min[dia_buscado] < temperatura_min.mean())\n",
        "}\n",
        "print(f'No {dia_buscado} você deverá utilizar {\", \".join([idx for idx, item in condicionais.items() if item == True])}')\n",
        "\n"
      ]
    },
    {
      "cell_type": "markdown",
      "metadata": {
        "id": "YuQplySFzgio"
      },
      "source": [
        "## Exercício 5\n",
        "Em quais dias, que normalmente não necessitariam o uso de casaco, o item passaria a ser necessário em caso de chuva?"
      ]
    },
    {
      "cell_type": "code",
      "execution_count": null,
      "metadata": {
        "id": "Zy4UryC4zgio",
        "outputId": "a7069ead-0306-41b9-d318-896182c12718"
      },
      "outputs": [
        {
          "name": "stdout",
          "output_type": "stream",
          "text": [
            "Se chover, você passará a precisar de casaco nos seguintes dias: ['21/05', '22/05']\n"
          ]
        }
      ],
      "source": [
        "#Condicional do casaco\n",
        "sem_casaco = temperatura_min[temperatura_min>=16]\n",
        "temp_min_chuva = temperatura_min - 2\n",
        "dias_casaco_chuva = temp_min_chuva[sem_casaco.index] < 16\n",
        "\n",
        "passa_a_usar_casaco = sem_casaco[dias_casaco_chuva]\n",
        "\n",
        "print(f'Se chover, você passará a precisar de casaco nos seguintes dias: {passa_a_usar_casaco.index.to_list()}')\n",
        "\n"
      ]
    },
    {
      "cell_type": "markdown",
      "metadata": {
        "id": "k60eBI4lzgio"
      },
      "source": [
        "## Exercício 6\n",
        "Gere um gráfico com a evolução da amplitude térmica."
      ]
    },
    {
      "cell_type": "code",
      "execution_count": null,
      "metadata": {
        "id": "0uEz-EWAzgio",
        "outputId": "6fea00af-3c5e-46c4-f91b-6be06d0f893f"
      },
      "outputs": [
        {
          "data": {
            "text/plain": [
              "<Axes: >"
            ]
          },
          "execution_count": 71,
          "metadata": {},
          "output_type": "execute_result"
        },
        {
          "data": {
            "image/png": "[encoded data removed]",
            "text/plain": [
              "<Figure size 640x480 with 1 Axes>"
            ]
          },
          "metadata": {},
          "output_type": "display_data"
        }
      ],
      "source": [
        "amp_term_serie.plot()"
      ]
    },
    {
      "cell_type": "markdown",
      "metadata": {
        "id": "lMb6VuqBzgip"
      },
      "source": [
        "## Exercício 7\n",
        "Gere um gráfico que retorne quantas vezes cada item será utilizado."
      ]
    },
    {
      "cell_type": "code",
      "execution_count": null,
      "metadata": {
        "id": "-SuHAOv3zgip"
      },
      "outputs": [],
      "source": []
    },
    {
      "cell_type": "markdown",
      "metadata": {
        "id": "whH_671_kD9A"
      },
      "source": [
        "# DataFrames"
      ]
    },
    {
      "cell_type": "markdown",
      "metadata": {
        "id": "UhKStPemM4kI"
      },
      "source": [
        "### Assim como nas seríes é possível usar as estruturas comuns da linguagem para a criação dos DataFrames. Também é possível importar de arquivos (txt, csv, excel, etc) ou da Web."
      ]
    },
    {
      "cell_type": "markdown",
      "metadata": {
        "id": "FO0hABcb4bPv"
      },
      "source": []
    },
    {
      "cell_type": "code",
      "execution_count": 3,
      "metadata": {
        "id": "IPuazVr9NAZ_"
      },
      "outputs": [],
      "source": [
        "#Campos: ID da Transação, Codigo Cliente, Modelo, Data do Aluguel, Data de Devolução, Valor Locacao, Taxa Administrativa\n",
        "\n",
        "alugueis = [\n",
        "    (1, 1023, \"Onix\", \"2025-01-05\", \"2025-01-10\", 1250.00, \"R$ 150,00\"),\n",
        "    (2, 1045, \"HB20\", \"2025-01-07\", \"2025-01-12\", 1400.00, \"R$ 150,00\"),\n",
        "    (3, 1102, \"Tracker\", \"2025-01-10\", \"2025-01-15\", 1750.50, \"R$ 200,00\"),\n",
        "    (4, 1150, \"T-Cross\", \"2025-01-12\", \"2025-01-16\", 1120.75, \"R$ 200,00\"),\n",
        "    (5, 1201, \"Civic\", \"2025-01-15\", \"2025-01-17\", 800.00, \"R$ 250,00\"),\n",
        "    (6, 1254, \"Civic\", \"2025-01-18\", \"2025-01-31\", 4525.25, \"R$ 250,00\"),\n",
        "    (7, 1300, \"L200\", \"2025-01-20\", \"2025-01-29\", 4875.00, \"R$ 300,00\"),\n",
        "    (8, 1356, \"Compass\", \"2025-01-22\", \"2025-01-28\", 3400.60, \"R$ 400,00\"),\n",
        "    (9, 1025, \"Onix\", \"2025-02-01\", \"2025-02-05\", 1000.00, \"R$ 150,00\"),\n",
        "    (10, 1023, \"HB20\", \"2025-02-03\", \"2025-02-07\", 1120.00, \"R$ 150,00\"),\n",
        "    (11, 1122, \"Tracker\", \"2025-02-05\", \"2025-02-07\", 425.75, \"R$ 200,00\"),\n",
        "    (12, 1177, \"T-Cross\", \"2025-02-08\", \"2025-02-12\", 1240.50, \"R$ 200,00\"),\n",
        "    (13, 1225, \"Civic\", \"2025-02-10\", \"2025-02-15\", 1750.00, \"R$ 250,00\"),\n",
        "    (14, 1270, \"Civic\", \"2025-02-12\", \"2025-02-17\", 2000.00, \"R$ 250,00\"),\n",
        "    (15, 1300, \"L200\", \"2025-02-14\", \"2025-02-15\", 500.00, \"R$ 300,00\"),\n",
        "    (16, 1375, \"Compass\", \"2025-02-16\", \"2025-02-21\", 3600.00, \"R$ 400,00\"),\n",
        "    (17, 1005, \"Onix\", \"2025-02-18\", \"2025-02-19\", 400.00, \"R$ 150,00\"),\n",
        "    (18, 1150, \"Tracker\", \"2025-02-20\", \"2025-02-25\", 1925.00, \"R$ 250,00\"),\n",
        "    (19, 1105, \"T-Cross\", \"2025-02-22\", \"2025-02-26\", 1300.00, \"R$ 200,00\"),\n",
        "    (20, 1023, \"Civic\", \"2025-02-20\", \"2025-02-28\", 3850.00, \"R$ 250,00\")\n",
        "]"
      ]
    },
    {
      "cell_type": "markdown",
      "metadata": {
        "id": "HZxBbu6_NTNj"
      },
      "source": [
        "### Com isso, conseguimos instanciar a classe Dataframe, a partir da leitura do CSV. A partir de agora, os dados estão disponíveis para serem trabalhados em memória."
      ]
    },
    {
      "cell_type": "code",
      "execution_count": 4,
      "metadata": {
        "id": "nawYM1nINOcX"
      },
      "outputs": [],
      "source": [
        "df = pd.DataFrame(alugueis)"
      ]
    },
    {
      "cell_type": "code",
      "execution_count": 5,
      "metadata": {
        "id": "n3CwpPFVkRj1"
      },
      "outputs": [],
      "source": [
        "df.to_csv('alugueis_carros.csv', index= False, header = False)"
      ]
    },
    {
      "cell_type": "code",
      "execution_count": 6,
      "metadata": {
        "colab": {
          "base_uri": "https://localhost:8080/",
          "height": 206
        },
        "id": "1oTZxZ88n_U6",
        "outputId": "a72c0416-72f9-4a55-ae75-f9b9e19fa012"
      },
      "outputs": [
        {
          "data": {
            "text/html": [
              "<div>\n",
              "<style scoped>\n",
              "    .dataframe tbody tr th:only-of-type {\n",
              "        vertical-align: middle;\n",
              "    }\n",
              "\n",
              "    .dataframe tbody tr th {\n",
              "        vertical-align: top;\n",
              "    }\n",
              "\n",
              "    .dataframe thead th {\n",
              "        text-align: right;\n",
              "    }\n",
              "</style>\n",
              "<table border=\"1\" class=\"dataframe\">\n",
              "  <thead>\n",
              "    <tr style=\"text-align: right;\">\n",
              "      <th></th>\n",
              "      <th>0</th>\n",
              "      <th>1</th>\n",
              "      <th>2</th>\n",
              "      <th>3</th>\n",
              "      <th>4</th>\n",
              "      <th>5</th>\n",
              "      <th>6</th>\n",
              "    </tr>\n",
              "  </thead>\n",
              "  <tbody>\n",
              "    <tr>\n",
              "      <th>15</th>\n",
              "      <td>16</td>\n",
              "      <td>1375</td>\n",
              "      <td>Compass</td>\n",
              "      <td>2025-02-16</td>\n",
              "      <td>2025-02-21</td>\n",
              "      <td>3600.0</td>\n",
              "      <td>R$ 400,00</td>\n",
              "    </tr>\n",
              "    <tr>\n",
              "      <th>16</th>\n",
              "      <td>17</td>\n",
              "      <td>1005</td>\n",
              "      <td>Onix</td>\n",
              "      <td>2025-02-18</td>\n",
              "      <td>2025-02-19</td>\n",
              "      <td>400.0</td>\n",
              "      <td>R$ 150,00</td>\n",
              "    </tr>\n",
              "    <tr>\n",
              "      <th>17</th>\n",
              "      <td>18</td>\n",
              "      <td>1150</td>\n",
              "      <td>Tracker</td>\n",
              "      <td>2025-02-20</td>\n",
              "      <td>2025-02-25</td>\n",
              "      <td>1925.0</td>\n",
              "      <td>R$ 250,00</td>\n",
              "    </tr>\n",
              "    <tr>\n",
              "      <th>18</th>\n",
              "      <td>19</td>\n",
              "      <td>1105</td>\n",
              "      <td>T-Cross</td>\n",
              "      <td>2025-02-22</td>\n",
              "      <td>2025-02-26</td>\n",
              "      <td>1300.0</td>\n",
              "      <td>R$ 200,00</td>\n",
              "    </tr>\n",
              "    <tr>\n",
              "      <th>19</th>\n",
              "      <td>20</td>\n",
              "      <td>1023</td>\n",
              "      <td>Civic</td>\n",
              "      <td>2025-02-20</td>\n",
              "      <td>2025-02-28</td>\n",
              "      <td>3850.0</td>\n",
              "      <td>R$ 250,00</td>\n",
              "    </tr>\n",
              "  </tbody>\n",
              "</table>\n",
              "</div>"
            ],
            "text/plain": [
              "     0     1        2           3           4       5          6\n",
              "15  16  1375  Compass  2025-02-16  2025-02-21  3600.0  R$ 400,00\n",
              "16  17  1005     Onix  2025-02-18  2025-02-19   400.0  R$ 150,00\n",
              "17  18  1150  Tracker  2025-02-20  2025-02-25  1925.0  R$ 250,00\n",
              "18  19  1105  T-Cross  2025-02-22  2025-02-26  1300.0  R$ 200,00\n",
              "19  20  1023    Civic  2025-02-20  2025-02-28  3850.0  R$ 250,00"
            ]
          },
          "execution_count": 6,
          "metadata": {},
          "output_type": "execute_result"
        }
      ],
      "source": [
        "df.tail()"
      ]
    },
    {
      "cell_type": "code",
      "execution_count": 7,
      "metadata": {
        "id": "cru1gkj8SN7g"
      },
      "outputs": [],
      "source": [
        "df = pd.read_csv('alugueis_carros.csv',header=None)"
      ]
    },
    {
      "cell_type": "code",
      "execution_count": 8,
      "metadata": {
        "colab": {
          "base_uri": "https://localhost:8080/",
          "height": 677
        },
        "id": "YZoHXl6nn42g",
        "outputId": "16b1fa97-f57a-4400-fe38-278fdae60b1a"
      },
      "outputs": [
        {
          "data": {
            "text/html": [
              "<div>\n",
              "<style scoped>\n",
              "    .dataframe tbody tr th:only-of-type {\n",
              "        vertical-align: middle;\n",
              "    }\n",
              "\n",
              "    .dataframe tbody tr th {\n",
              "        vertical-align: top;\n",
              "    }\n",
              "\n",
              "    .dataframe thead th {\n",
              "        text-align: right;\n",
              "    }\n",
              "</style>\n",
              "<table border=\"1\" class=\"dataframe\">\n",
              "  <thead>\n",
              "    <tr style=\"text-align: right;\">\n",
              "      <th></th>\n",
              "      <th>0</th>\n",
              "      <th>1</th>\n",
              "      <th>2</th>\n",
              "      <th>3</th>\n",
              "      <th>4</th>\n",
              "      <th>5</th>\n",
              "      <th>6</th>\n",
              "    </tr>\n",
              "  </thead>\n",
              "  <tbody>\n",
              "    <tr>\n",
              "      <th>0</th>\n",
              "      <td>1</td>\n",
              "      <td>1023</td>\n",
              "      <td>Onix</td>\n",
              "      <td>2025-01-05</td>\n",
              "      <td>2025-01-10</td>\n",
              "      <td>1250.00</td>\n",
              "      <td>R$ 150,00</td>\n",
              "    </tr>\n",
              "    <tr>\n",
              "      <th>1</th>\n",
              "      <td>2</td>\n",
              "      <td>1045</td>\n",
              "      <td>HB20</td>\n",
              "      <td>2025-01-07</td>\n",
              "      <td>2025-01-12</td>\n",
              "      <td>1400.00</td>\n",
              "      <td>R$ 150,00</td>\n",
              "    </tr>\n",
              "    <tr>\n",
              "      <th>2</th>\n",
              "      <td>3</td>\n",
              "      <td>1102</td>\n",
              "      <td>Tracker</td>\n",
              "      <td>2025-01-10</td>\n",
              "      <td>2025-01-15</td>\n",
              "      <td>1750.50</td>\n",
              "      <td>R$ 200,00</td>\n",
              "    </tr>\n",
              "    <tr>\n",
              "      <th>3</th>\n",
              "      <td>4</td>\n",
              "      <td>1150</td>\n",
              "      <td>T-Cross</td>\n",
              "      <td>2025-01-12</td>\n",
              "      <td>2025-01-16</td>\n",
              "      <td>1120.75</td>\n",
              "      <td>R$ 200,00</td>\n",
              "    </tr>\n",
              "    <tr>\n",
              "      <th>4</th>\n",
              "      <td>5</td>\n",
              "      <td>1201</td>\n",
              "      <td>Civic</td>\n",
              "      <td>2025-01-15</td>\n",
              "      <td>2025-01-17</td>\n",
              "      <td>800.00</td>\n",
              "      <td>R$ 250,00</td>\n",
              "    </tr>\n",
              "    <tr>\n",
              "      <th>5</th>\n",
              "      <td>6</td>\n",
              "      <td>1254</td>\n",
              "      <td>Civic</td>\n",
              "      <td>2025-01-18</td>\n",
              "      <td>2025-01-31</td>\n",
              "      <td>4525.25</td>\n",
              "      <td>R$ 250,00</td>\n",
              "    </tr>\n",
              "    <tr>\n",
              "      <th>6</th>\n",
              "      <td>7</td>\n",
              "      <td>1300</td>\n",
              "      <td>L200</td>\n",
              "      <td>2025-01-20</td>\n",
              "      <td>2025-01-29</td>\n",
              "      <td>4875.00</td>\n",
              "      <td>R$ 300,00</td>\n",
              "    </tr>\n",
              "    <tr>\n",
              "      <th>7</th>\n",
              "      <td>8</td>\n",
              "      <td>1356</td>\n",
              "      <td>Compass</td>\n",
              "      <td>2025-01-22</td>\n",
              "      <td>2025-01-28</td>\n",
              "      <td>3400.60</td>\n",
              "      <td>R$ 400,00</td>\n",
              "    </tr>\n",
              "    <tr>\n",
              "      <th>8</th>\n",
              "      <td>9</td>\n",
              "      <td>1025</td>\n",
              "      <td>Onix</td>\n",
              "      <td>2025-02-01</td>\n",
              "      <td>2025-02-05</td>\n",
              "      <td>1000.00</td>\n",
              "      <td>R$ 150,00</td>\n",
              "    </tr>\n",
              "    <tr>\n",
              "      <th>9</th>\n",
              "      <td>10</td>\n",
              "      <td>1023</td>\n",
              "      <td>HB20</td>\n",
              "      <td>2025-02-03</td>\n",
              "      <td>2025-02-07</td>\n",
              "      <td>1120.00</td>\n",
              "      <td>R$ 150,00</td>\n",
              "    </tr>\n",
              "    <tr>\n",
              "      <th>10</th>\n",
              "      <td>11</td>\n",
              "      <td>1122</td>\n",
              "      <td>Tracker</td>\n",
              "      <td>2025-02-05</td>\n",
              "      <td>2025-02-07</td>\n",
              "      <td>425.75</td>\n",
              "      <td>R$ 200,00</td>\n",
              "    </tr>\n",
              "    <tr>\n",
              "      <th>11</th>\n",
              "      <td>12</td>\n",
              "      <td>1177</td>\n",
              "      <td>T-Cross</td>\n",
              "      <td>2025-02-08</td>\n",
              "      <td>2025-02-12</td>\n",
              "      <td>1240.50</td>\n",
              "      <td>R$ 200,00</td>\n",
              "    </tr>\n",
              "    <tr>\n",
              "      <th>12</th>\n",
              "      <td>13</td>\n",
              "      <td>1225</td>\n",
              "      <td>Civic</td>\n",
              "      <td>2025-02-10</td>\n",
              "      <td>2025-02-15</td>\n",
              "      <td>1750.00</td>\n",
              "      <td>R$ 250,00</td>\n",
              "    </tr>\n",
              "    <tr>\n",
              "      <th>13</th>\n",
              "      <td>14</td>\n",
              "      <td>1270</td>\n",
              "      <td>Civic</td>\n",
              "      <td>2025-02-12</td>\n",
              "      <td>2025-02-17</td>\n",
              "      <td>2000.00</td>\n",
              "      <td>R$ 250,00</td>\n",
              "    </tr>\n",
              "    <tr>\n",
              "      <th>14</th>\n",
              "      <td>15</td>\n",
              "      <td>1300</td>\n",
              "      <td>L200</td>\n",
              "      <td>2025-02-14</td>\n",
              "      <td>2025-02-15</td>\n",
              "      <td>500.00</td>\n",
              "      <td>R$ 300,00</td>\n",
              "    </tr>\n",
              "    <tr>\n",
              "      <th>15</th>\n",
              "      <td>16</td>\n",
              "      <td>1375</td>\n",
              "      <td>Compass</td>\n",
              "      <td>2025-02-16</td>\n",
              "      <td>2025-02-21</td>\n",
              "      <td>3600.00</td>\n",
              "      <td>R$ 400,00</td>\n",
              "    </tr>\n",
              "    <tr>\n",
              "      <th>16</th>\n",
              "      <td>17</td>\n",
              "      <td>1005</td>\n",
              "      <td>Onix</td>\n",
              "      <td>2025-02-18</td>\n",
              "      <td>2025-02-19</td>\n",
              "      <td>400.00</td>\n",
              "      <td>R$ 150,00</td>\n",
              "    </tr>\n",
              "    <tr>\n",
              "      <th>17</th>\n",
              "      <td>18</td>\n",
              "      <td>1150</td>\n",
              "      <td>Tracker</td>\n",
              "      <td>2025-02-20</td>\n",
              "      <td>2025-02-25</td>\n",
              "      <td>1925.00</td>\n",
              "      <td>R$ 250,00</td>\n",
              "    </tr>\n",
              "    <tr>\n",
              "      <th>18</th>\n",
              "      <td>19</td>\n",
              "      <td>1105</td>\n",
              "      <td>T-Cross</td>\n",
              "      <td>2025-02-22</td>\n",
              "      <td>2025-02-26</td>\n",
              "      <td>1300.00</td>\n",
              "      <td>R$ 200,00</td>\n",
              "    </tr>\n",
              "    <tr>\n",
              "      <th>19</th>\n",
              "      <td>20</td>\n",
              "      <td>1023</td>\n",
              "      <td>Civic</td>\n",
              "      <td>2025-02-20</td>\n",
              "      <td>2025-02-28</td>\n",
              "      <td>3850.00</td>\n",
              "      <td>R$ 250,00</td>\n",
              "    </tr>\n",
              "  </tbody>\n",
              "</table>\n",
              "</div>"
            ],
            "text/plain": [
              "     0     1        2           3           4        5          6\n",
              "0    1  1023     Onix  2025-01-05  2025-01-10  1250.00  R$ 150,00\n",
              "1    2  1045     HB20  2025-01-07  2025-01-12  1400.00  R$ 150,00\n",
              "2    3  1102  Tracker  2025-01-10  2025-01-15  1750.50  R$ 200,00\n",
              "3    4  1150  T-Cross  2025-01-12  2025-01-16  1120.75  R$ 200,00\n",
              "4    5  1201    Civic  2025-01-15  2025-01-17   800.00  R$ 250,00\n",
              "5    6  1254    Civic  2025-01-18  2025-01-31  4525.25  R$ 250,00\n",
              "6    7  1300     L200  2025-01-20  2025-01-29  4875.00  R$ 300,00\n",
              "7    8  1356  Compass  2025-01-22  2025-01-28  3400.60  R$ 400,00\n",
              "8    9  1025     Onix  2025-02-01  2025-02-05  1000.00  R$ 150,00\n",
              "9   10  1023     HB20  2025-02-03  2025-02-07  1120.00  R$ 150,00\n",
              "10  11  1122  Tracker  2025-02-05  2025-02-07   425.75  R$ 200,00\n",
              "11  12  1177  T-Cross  2025-02-08  2025-02-12  1240.50  R$ 200,00\n",
              "12  13  1225    Civic  2025-02-10  2025-02-15  1750.00  R$ 250,00\n",
              "13  14  1270    Civic  2025-02-12  2025-02-17  2000.00  R$ 250,00\n",
              "14  15  1300     L200  2025-02-14  2025-02-15   500.00  R$ 300,00\n",
              "15  16  1375  Compass  2025-02-16  2025-02-21  3600.00  R$ 400,00\n",
              "16  17  1005     Onix  2025-02-18  2025-02-19   400.00  R$ 150,00\n",
              "17  18  1150  Tracker  2025-02-20  2025-02-25  1925.00  R$ 250,00\n",
              "18  19  1105  T-Cross  2025-02-22  2025-02-26  1300.00  R$ 200,00\n",
              "19  20  1023    Civic  2025-02-20  2025-02-28  3850.00  R$ 250,00"
            ]
          },
          "metadata": {},
          "output_type": "display_data"
        }
      ],
      "source": [
        "display(df)"
      ]
    },
    {
      "cell_type": "markdown",
      "metadata": {
        "id": "U6ghaJuwSSK2"
      },
      "source": [
        "**Podemos** incluir o nome das colunas, já na criação do DataFrame"
      ]
    },
    {
      "cell_type": "code",
      "execution_count": 9,
      "metadata": {
        "id": "6h6H_Mw9SFeh"
      },
      "outputs": [],
      "source": [
        "df = pd.DataFrame(alugueis, columns=[\n",
        "    \"idTransacao\", \"idCliente\", \"modelo\", \"dtAluguel\", \"dtDevolucao\", \"vlLocacao\", \"vlTaxaAdministrativa\"\n",
        "])"
      ]
    },
    {
      "cell_type": "code",
      "execution_count": 10,
      "metadata": {
        "colab": {
          "base_uri": "https://localhost:8080/",
          "height": 363
        },
        "id": "QKniF5OtSMsD",
        "outputId": "63fac503-3c2d-453b-e9a1-1dc99ab2f828"
      },
      "outputs": [
        {
          "data": {
            "text/html": [
              "<div>\n",
              "<style scoped>\n",
              "    .dataframe tbody tr th:only-of-type {\n",
              "        vertical-align: middle;\n",
              "    }\n",
              "\n",
              "    .dataframe tbody tr th {\n",
              "        vertical-align: top;\n",
              "    }\n",
              "\n",
              "    .dataframe thead th {\n",
              "        text-align: right;\n",
              "    }\n",
              "</style>\n",
              "<table border=\"1\" class=\"dataframe\">\n",
              "  <thead>\n",
              "    <tr style=\"text-align: right;\">\n",
              "      <th></th>\n",
              "      <th>idTransacao</th>\n",
              "      <th>idCliente</th>\n",
              "      <th>modelo</th>\n",
              "      <th>dtAluguel</th>\n",
              "      <th>dtDevolucao</th>\n",
              "      <th>vlLocacao</th>\n",
              "      <th>vlTaxaAdministrativa</th>\n",
              "    </tr>\n",
              "  </thead>\n",
              "  <tbody>\n",
              "    <tr>\n",
              "      <th>0</th>\n",
              "      <td>1</td>\n",
              "      <td>1023</td>\n",
              "      <td>Onix</td>\n",
              "      <td>2025-01-05</td>\n",
              "      <td>2025-01-10</td>\n",
              "      <td>1250.00</td>\n",
              "      <td>R$ 150,00</td>\n",
              "    </tr>\n",
              "    <tr>\n",
              "      <th>1</th>\n",
              "      <td>2</td>\n",
              "      <td>1045</td>\n",
              "      <td>HB20</td>\n",
              "      <td>2025-01-07</td>\n",
              "      <td>2025-01-12</td>\n",
              "      <td>1400.00</td>\n",
              "      <td>R$ 150,00</td>\n",
              "    </tr>\n",
              "    <tr>\n",
              "      <th>2</th>\n",
              "      <td>3</td>\n",
              "      <td>1102</td>\n",
              "      <td>Tracker</td>\n",
              "      <td>2025-01-10</td>\n",
              "      <td>2025-01-15</td>\n",
              "      <td>1750.50</td>\n",
              "      <td>R$ 200,00</td>\n",
              "    </tr>\n",
              "    <tr>\n",
              "      <th>3</th>\n",
              "      <td>4</td>\n",
              "      <td>1150</td>\n",
              "      <td>T-Cross</td>\n",
              "      <td>2025-01-12</td>\n",
              "      <td>2025-01-16</td>\n",
              "      <td>1120.75</td>\n",
              "      <td>R$ 200,00</td>\n",
              "    </tr>\n",
              "    <tr>\n",
              "      <th>4</th>\n",
              "      <td>5</td>\n",
              "      <td>1201</td>\n",
              "      <td>Civic</td>\n",
              "      <td>2025-01-15</td>\n",
              "      <td>2025-01-17</td>\n",
              "      <td>800.00</td>\n",
              "      <td>R$ 250,00</td>\n",
              "    </tr>\n",
              "    <tr>\n",
              "      <th>5</th>\n",
              "      <td>6</td>\n",
              "      <td>1254</td>\n",
              "      <td>Civic</td>\n",
              "      <td>2025-01-18</td>\n",
              "      <td>2025-01-31</td>\n",
              "      <td>4525.25</td>\n",
              "      <td>R$ 250,00</td>\n",
              "    </tr>\n",
              "    <tr>\n",
              "      <th>6</th>\n",
              "      <td>7</td>\n",
              "      <td>1300</td>\n",
              "      <td>L200</td>\n",
              "      <td>2025-01-20</td>\n",
              "      <td>2025-01-29</td>\n",
              "      <td>4875.00</td>\n",
              "      <td>R$ 300,00</td>\n",
              "    </tr>\n",
              "    <tr>\n",
              "      <th>7</th>\n",
              "      <td>8</td>\n",
              "      <td>1356</td>\n",
              "      <td>Compass</td>\n",
              "      <td>2025-01-22</td>\n",
              "      <td>2025-01-28</td>\n",
              "      <td>3400.60</td>\n",
              "      <td>R$ 400,00</td>\n",
              "    </tr>\n",
              "    <tr>\n",
              "      <th>8</th>\n",
              "      <td>9</td>\n",
              "      <td>1025</td>\n",
              "      <td>Onix</td>\n",
              "      <td>2025-02-01</td>\n",
              "      <td>2025-02-05</td>\n",
              "      <td>1000.00</td>\n",
              "      <td>R$ 150,00</td>\n",
              "    </tr>\n",
              "    <tr>\n",
              "      <th>9</th>\n",
              "      <td>10</td>\n",
              "      <td>1023</td>\n",
              "      <td>HB20</td>\n",
              "      <td>2025-02-03</td>\n",
              "      <td>2025-02-07</td>\n",
              "      <td>1120.00</td>\n",
              "      <td>R$ 150,00</td>\n",
              "    </tr>\n",
              "  </tbody>\n",
              "</table>\n",
              "</div>"
            ],
            "text/plain": [
              "   idTransacao  idCliente   modelo   dtAluguel dtDevolucao  vlLocacao  \\\n",
              "0            1       1023     Onix  2025-01-05  2025-01-10    1250.00   \n",
              "1            2       1045     HB20  2025-01-07  2025-01-12    1400.00   \n",
              "2            3       1102  Tracker  2025-01-10  2025-01-15    1750.50   \n",
              "3            4       1150  T-Cross  2025-01-12  2025-01-16    1120.75   \n",
              "4            5       1201    Civic  2025-01-15  2025-01-17     800.00   \n",
              "5            6       1254    Civic  2025-01-18  2025-01-31    4525.25   \n",
              "6            7       1300     L200  2025-01-20  2025-01-29    4875.00   \n",
              "7            8       1356  Compass  2025-01-22  2025-01-28    3400.60   \n",
              "8            9       1025     Onix  2025-02-01  2025-02-05    1000.00   \n",
              "9           10       1023     HB20  2025-02-03  2025-02-07    1120.00   \n",
              "\n",
              "  vlTaxaAdministrativa  \n",
              "0            R$ 150,00  \n",
              "1            R$ 150,00  \n",
              "2            R$ 200,00  \n",
              "3            R$ 200,00  \n",
              "4            R$ 250,00  \n",
              "5            R$ 250,00  \n",
              "6            R$ 300,00  \n",
              "7            R$ 400,00  \n",
              "8            R$ 150,00  \n",
              "9            R$ 150,00  "
            ]
          },
          "execution_count": 10,
          "metadata": {},
          "output_type": "execute_result"
        }
      ],
      "source": [
        "df.head(10)"
      ]
    },
    {
      "cell_type": "markdown",
      "metadata": {
        "id": "6MUP6XIaNstW"
      },
      "source": [
        "### Podemos utilizar alguns métodos para explorar e entender melhor o conjunto de dados."
      ]
    },
    {
      "cell_type": "code",
      "execution_count": 11,
      "metadata": {
        "colab": {
          "base_uri": "https://localhost:8080/"
        },
        "id": "QQMHtS6pNfF_",
        "outputId": "244ed6da-f68a-41c3-ed91-514b7b9acb64"
      },
      "outputs": [
        {
          "name": "stdout",
          "output_type": "stream",
          "text": [
            "<class 'pandas.core.frame.DataFrame'>\n",
            "RangeIndex: 20 entries, 0 to 19\n",
            "Data columns (total 7 columns):\n",
            " #   Column                Non-Null Count  Dtype  \n",
            "---  ------                --------------  -----  \n",
            " 0   idTransacao           20 non-null     int64  \n",
            " 1   idCliente             20 non-null     int64  \n",
            " 2   modelo                20 non-null     object \n",
            " 3   dtAluguel             20 non-null     object \n",
            " 4   dtDevolucao           20 non-null     object \n",
            " 5   vlLocacao             20 non-null     float64\n",
            " 6   vlTaxaAdministrativa  20 non-null     object \n",
            "dtypes: float64(1), int64(2), object(4)\n",
            "memory usage: 1.2+ KB\n"
          ]
        }
      ],
      "source": [
        "df.info()"
      ]
    },
    {
      "cell_type": "code",
      "execution_count": 12,
      "metadata": {
        "colab": {
          "base_uri": "https://localhost:8080/",
          "height": 300
        },
        "id": "Vy0sMaaVOLYa",
        "outputId": "a0100652-839d-4c65-e51e-3be52eb3bc2b"
      },
      "outputs": [
        {
          "data": {
            "text/html": [
              "<div>\n",
              "<style scoped>\n",
              "    .dataframe tbody tr th:only-of-type {\n",
              "        vertical-align: middle;\n",
              "    }\n",
              "\n",
              "    .dataframe tbody tr th {\n",
              "        vertical-align: top;\n",
              "    }\n",
              "\n",
              "    .dataframe thead th {\n",
              "        text-align: right;\n",
              "    }\n",
              "</style>\n",
              "<table border=\"1\" class=\"dataframe\">\n",
              "  <thead>\n",
              "    <tr style=\"text-align: right;\">\n",
              "      <th></th>\n",
              "      <th>idTransacao</th>\n",
              "      <th>idCliente</th>\n",
              "      <th>vlLocacao</th>\n",
              "    </tr>\n",
              "  </thead>\n",
              "  <tbody>\n",
              "    <tr>\n",
              "      <th>count</th>\n",
              "      <td>20.00000</td>\n",
              "      <td>20.000000</td>\n",
              "      <td>20.000000</td>\n",
              "    </tr>\n",
              "    <tr>\n",
              "      <th>mean</th>\n",
              "      <td>10.50000</td>\n",
              "      <td>1161.550000</td>\n",
              "      <td>1911.667500</td>\n",
              "    </tr>\n",
              "    <tr>\n",
              "      <th>std</th>\n",
              "      <td>5.91608</td>\n",
              "      <td>119.370928</td>\n",
              "      <td>1373.165751</td>\n",
              "    </tr>\n",
              "    <tr>\n",
              "      <th>min</th>\n",
              "      <td>1.00000</td>\n",
              "      <td>1005.000000</td>\n",
              "      <td>400.000000</td>\n",
              "    </tr>\n",
              "    <tr>\n",
              "      <th>25%</th>\n",
              "      <td>5.75000</td>\n",
              "      <td>1040.000000</td>\n",
              "      <td>1090.000000</td>\n",
              "    </tr>\n",
              "    <tr>\n",
              "      <th>50%</th>\n",
              "      <td>10.50000</td>\n",
              "      <td>1150.000000</td>\n",
              "      <td>1350.000000</td>\n",
              "    </tr>\n",
              "    <tr>\n",
              "      <th>75%</th>\n",
              "      <td>15.25000</td>\n",
              "      <td>1258.000000</td>\n",
              "      <td>2350.150000</td>\n",
              "    </tr>\n",
              "    <tr>\n",
              "      <th>max</th>\n",
              "      <td>20.00000</td>\n",
              "      <td>1375.000000</td>\n",
              "      <td>4875.000000</td>\n",
              "    </tr>\n",
              "  </tbody>\n",
              "</table>\n",
              "</div>"
            ],
            "text/plain": [
              "       idTransacao    idCliente    vlLocacao\n",
              "count     20.00000    20.000000    20.000000\n",
              "mean      10.50000  1161.550000  1911.667500\n",
              "std        5.91608   119.370928  1373.165751\n",
              "min        1.00000  1005.000000   400.000000\n",
              "25%        5.75000  1040.000000  1090.000000\n",
              "50%       10.50000  1150.000000  1350.000000\n",
              "75%       15.25000  1258.000000  2350.150000\n",
              "max       20.00000  1375.000000  4875.000000"
            ]
          },
          "execution_count": 12,
          "metadata": {},
          "output_type": "execute_result"
        }
      ],
      "source": [
        "df.describe()"
      ]
    },
    {
      "cell_type": "code",
      "execution_count": 13,
      "metadata": {
        "colab": {
          "base_uri": "https://localhost:8080/",
          "height": 520
        },
        "id": "ks9tMu4fONlK",
        "outputId": "f6a69e7d-8378-4034-b4c3-7c25accba741"
      },
      "outputs": [
        {
          "data": {
            "text/html": [
              "<div>\n",
              "<style scoped>\n",
              "    .dataframe tbody tr th:only-of-type {\n",
              "        vertical-align: middle;\n",
              "    }\n",
              "\n",
              "    .dataframe tbody tr th {\n",
              "        vertical-align: top;\n",
              "    }\n",
              "\n",
              "    .dataframe thead th {\n",
              "        text-align: right;\n",
              "    }\n",
              "</style>\n",
              "<table border=\"1\" class=\"dataframe\">\n",
              "  <thead>\n",
              "    <tr style=\"text-align: right;\">\n",
              "      <th></th>\n",
              "      <th>modelo</th>\n",
              "      <th>vlLocacao</th>\n",
              "    </tr>\n",
              "  </thead>\n",
              "  <tbody>\n",
              "    <tr>\n",
              "      <th>0</th>\n",
              "      <td>Onix</td>\n",
              "      <td>1250.00</td>\n",
              "    </tr>\n",
              "    <tr>\n",
              "      <th>1</th>\n",
              "      <td>HB20</td>\n",
              "      <td>1400.00</td>\n",
              "    </tr>\n",
              "    <tr>\n",
              "      <th>2</th>\n",
              "      <td>Tracker</td>\n",
              "      <td>1750.50</td>\n",
              "    </tr>\n",
              "    <tr>\n",
              "      <th>3</th>\n",
              "      <td>T-Cross</td>\n",
              "      <td>1120.75</td>\n",
              "    </tr>\n",
              "    <tr>\n",
              "      <th>4</th>\n",
              "      <td>Civic</td>\n",
              "      <td>800.00</td>\n",
              "    </tr>\n",
              "    <tr>\n",
              "      <th>5</th>\n",
              "      <td>Civic</td>\n",
              "      <td>4525.25</td>\n",
              "    </tr>\n",
              "    <tr>\n",
              "      <th>6</th>\n",
              "      <td>L200</td>\n",
              "      <td>4875.00</td>\n",
              "    </tr>\n",
              "    <tr>\n",
              "      <th>7</th>\n",
              "      <td>Compass</td>\n",
              "      <td>3400.60</td>\n",
              "    </tr>\n",
              "    <tr>\n",
              "      <th>8</th>\n",
              "      <td>Onix</td>\n",
              "      <td>1000.00</td>\n",
              "    </tr>\n",
              "    <tr>\n",
              "      <th>9</th>\n",
              "      <td>HB20</td>\n",
              "      <td>1120.00</td>\n",
              "    </tr>\n",
              "    <tr>\n",
              "      <th>10</th>\n",
              "      <td>Tracker</td>\n",
              "      <td>425.75</td>\n",
              "    </tr>\n",
              "    <tr>\n",
              "      <th>11</th>\n",
              "      <td>T-Cross</td>\n",
              "      <td>1240.50</td>\n",
              "    </tr>\n",
              "    <tr>\n",
              "      <th>12</th>\n",
              "      <td>Civic</td>\n",
              "      <td>1750.00</td>\n",
              "    </tr>\n",
              "    <tr>\n",
              "      <th>13</th>\n",
              "      <td>Civic</td>\n",
              "      <td>2000.00</td>\n",
              "    </tr>\n",
              "    <tr>\n",
              "      <th>14</th>\n",
              "      <td>L200</td>\n",
              "      <td>500.00</td>\n",
              "    </tr>\n",
              "  </tbody>\n",
              "</table>\n",
              "</div>"
            ],
            "text/plain": [
              "     modelo  vlLocacao\n",
              "0      Onix    1250.00\n",
              "1      HB20    1400.00\n",
              "2   Tracker    1750.50\n",
              "3   T-Cross    1120.75\n",
              "4     Civic     800.00\n",
              "5     Civic    4525.25\n",
              "6      L200    4875.00\n",
              "7   Compass    3400.60\n",
              "8      Onix    1000.00\n",
              "9      HB20    1120.00\n",
              "10  Tracker     425.75\n",
              "11  T-Cross    1240.50\n",
              "12    Civic    1750.00\n",
              "13    Civic    2000.00\n",
              "14     L200     500.00"
            ]
          },
          "execution_count": 13,
          "metadata": {},
          "output_type": "execute_result"
        }
      ],
      "source": [
        "df[['modelo','vlLocacao']].head(15)"
      ]
    },
    {
      "cell_type": "markdown",
      "metadata": {
        "id": "TiznJ54HTBuH"
      },
      "source": [
        "### Mesmo em conjuntos de dados simples, podemos descobrir informações valiosas manipulando os dados."
      ]
    },
    {
      "cell_type": "code",
      "execution_count": 14,
      "metadata": {
        "colab": {
          "base_uri": "https://localhost:8080/",
          "height": 335
        },
        "id": "FTAg5JFyS-19",
        "outputId": "ef106195-e5ed-45e1-e891-3a1b04658907"
      },
      "outputs": [
        {
          "data": {
            "text/plain": [
              "modelo\n",
              "Civic      2585.050000\n",
              "Compass    3500.300000\n",
              "HB20       1260.000000\n",
              "L200       2687.500000\n",
              "Onix        883.333333\n",
              "T-Cross    1220.416667\n",
              "Tracker    1367.083333\n",
              "Name: vlLocacao, dtype: float64"
            ]
          },
          "execution_count": 14,
          "metadata": {},
          "output_type": "execute_result"
        }
      ],
      "source": [
        "df.groupby('modelo')['vlLocacao'].mean()"
      ]
    },
    {
      "cell_type": "markdown",
      "metadata": {
        "id": "k79inoLcUKJ0"
      },
      "source": [
        "Um tratamento comum de ser feito é a alteração de tipagens de dados"
      ]
    },
    {
      "cell_type": "code",
      "execution_count": 15,
      "metadata": {
        "id": "VxDcbbjYTxqb"
      },
      "outputs": [],
      "source": [
        "df['dtAluguel'] = pd.to_datetime(df['dtAluguel'], format='%Y-%m-%d')\n",
        "df['dtDevolucao'] = pd.to_datetime(df['dtDevolucao'], format='%Y-%m-%d')"
      ]
    },
    {
      "cell_type": "markdown",
      "metadata": {
        "id": "zNIkKT_LUH8F"
      },
      "source": [
        "Podemos incluir a informação de duração prevista do aluguel"
      ]
    },
    {
      "cell_type": "code",
      "execution_count": 16,
      "metadata": {
        "id": "cuU4RQXUT_yu"
      },
      "outputs": [],
      "source": [
        "df['duracaoDias'] = (df['dtDevolucao'] - df['dtAluguel']).dt.days"
      ]
    },
    {
      "cell_type": "code",
      "execution_count": 17,
      "metadata": {
        "colab": {
          "base_uri": "https://localhost:8080/",
          "height": 677
        },
        "id": "7SWAJwSyUk-x",
        "outputId": "9fd718fe-00f6-4552-f7dd-46e1dcf6b22b"
      },
      "outputs": [
        {
          "data": {
            "text/html": [
              "<div>\n",
              "<style scoped>\n",
              "    .dataframe tbody tr th:only-of-type {\n",
              "        vertical-align: middle;\n",
              "    }\n",
              "\n",
              "    .dataframe tbody tr th {\n",
              "        vertical-align: top;\n",
              "    }\n",
              "\n",
              "    .dataframe thead th {\n",
              "        text-align: right;\n",
              "    }\n",
              "</style>\n",
              "<table border=\"1\" class=\"dataframe\">\n",
              "  <thead>\n",
              "    <tr style=\"text-align: right;\">\n",
              "      <th></th>\n",
              "      <th>idTransacao</th>\n",
              "      <th>idCliente</th>\n",
              "      <th>modelo</th>\n",
              "      <th>dtAluguel</th>\n",
              "      <th>dtDevolucao</th>\n",
              "      <th>vlLocacao</th>\n",
              "      <th>vlTaxaAdministrativa</th>\n",
              "      <th>duracaoDias</th>\n",
              "    </tr>\n",
              "  </thead>\n",
              "  <tbody>\n",
              "    <tr>\n",
              "      <th>0</th>\n",
              "      <td>1</td>\n",
              "      <td>1023</td>\n",
              "      <td>Onix</td>\n",
              "      <td>2025-01-05</td>\n",
              "      <td>2025-01-10</td>\n",
              "      <td>1250.00</td>\n",
              "      <td>R$ 150,00</td>\n",
              "      <td>5</td>\n",
              "    </tr>\n",
              "    <tr>\n",
              "      <th>1</th>\n",
              "      <td>2</td>\n",
              "      <td>1045</td>\n",
              "      <td>HB20</td>\n",
              "      <td>2025-01-07</td>\n",
              "      <td>2025-01-12</td>\n",
              "      <td>1400.00</td>\n",
              "      <td>R$ 150,00</td>\n",
              "      <td>5</td>\n",
              "    </tr>\n",
              "    <tr>\n",
              "      <th>2</th>\n",
              "      <td>3</td>\n",
              "      <td>1102</td>\n",
              "      <td>Tracker</td>\n",
              "      <td>2025-01-10</td>\n",
              "      <td>2025-01-15</td>\n",
              "      <td>1750.50</td>\n",
              "      <td>R$ 200,00</td>\n",
              "      <td>5</td>\n",
              "    </tr>\n",
              "    <tr>\n",
              "      <th>3</th>\n",
              "      <td>4</td>\n",
              "      <td>1150</td>\n",
              "      <td>T-Cross</td>\n",
              "      <td>2025-01-12</td>\n",
              "      <td>2025-01-16</td>\n",
              "      <td>1120.75</td>\n",
              "      <td>R$ 200,00</td>\n",
              "      <td>4</td>\n",
              "    </tr>\n",
              "    <tr>\n",
              "      <th>4</th>\n",
              "      <td>5</td>\n",
              "      <td>1201</td>\n",
              "      <td>Civic</td>\n",
              "      <td>2025-01-15</td>\n",
              "      <td>2025-01-17</td>\n",
              "      <td>800.00</td>\n",
              "      <td>R$ 250,00</td>\n",
              "      <td>2</td>\n",
              "    </tr>\n",
              "    <tr>\n",
              "      <th>5</th>\n",
              "      <td>6</td>\n",
              "      <td>1254</td>\n",
              "      <td>Civic</td>\n",
              "      <td>2025-01-18</td>\n",
              "      <td>2025-01-31</td>\n",
              "      <td>4525.25</td>\n",
              "      <td>R$ 250,00</td>\n",
              "      <td>13</td>\n",
              "    </tr>\n",
              "    <tr>\n",
              "      <th>6</th>\n",
              "      <td>7</td>\n",
              "      <td>1300</td>\n",
              "      <td>L200</td>\n",
              "      <td>2025-01-20</td>\n",
              "      <td>2025-01-29</td>\n",
              "      <td>4875.00</td>\n",
              "      <td>R$ 300,00</td>\n",
              "      <td>9</td>\n",
              "    </tr>\n",
              "    <tr>\n",
              "      <th>7</th>\n",
              "      <td>8</td>\n",
              "      <td>1356</td>\n",
              "      <td>Compass</td>\n",
              "      <td>2025-01-22</td>\n",
              "      <td>2025-01-28</td>\n",
              "      <td>3400.60</td>\n",
              "      <td>R$ 400,00</td>\n",
              "      <td>6</td>\n",
              "    </tr>\n",
              "    <tr>\n",
              "      <th>8</th>\n",
              "      <td>9</td>\n",
              "      <td>1025</td>\n",
              "      <td>Onix</td>\n",
              "      <td>2025-02-01</td>\n",
              "      <td>2025-02-05</td>\n",
              "      <td>1000.00</td>\n",
              "      <td>R$ 150,00</td>\n",
              "      <td>4</td>\n",
              "    </tr>\n",
              "    <tr>\n",
              "      <th>9</th>\n",
              "      <td>10</td>\n",
              "      <td>1023</td>\n",
              "      <td>HB20</td>\n",
              "      <td>2025-02-03</td>\n",
              "      <td>2025-02-07</td>\n",
              "      <td>1120.00</td>\n",
              "      <td>R$ 150,00</td>\n",
              "      <td>4</td>\n",
              "    </tr>\n",
              "    <tr>\n",
              "      <th>10</th>\n",
              "      <td>11</td>\n",
              "      <td>1122</td>\n",
              "      <td>Tracker</td>\n",
              "      <td>2025-02-05</td>\n",
              "      <td>2025-02-07</td>\n",
              "      <td>425.75</td>\n",
              "      <td>R$ 200,00</td>\n",
              "      <td>2</td>\n",
              "    </tr>\n",
              "    <tr>\n",
              "      <th>11</th>\n",
              "      <td>12</td>\n",
              "      <td>1177</td>\n",
              "      <td>T-Cross</td>\n",
              "      <td>2025-02-08</td>\n",
              "      <td>2025-02-12</td>\n",
              "      <td>1240.50</td>\n",
              "      <td>R$ 200,00</td>\n",
              "      <td>4</td>\n",
              "    </tr>\n",
              "    <tr>\n",
              "      <th>12</th>\n",
              "      <td>13</td>\n",
              "      <td>1225</td>\n",
              "      <td>Civic</td>\n",
              "      <td>2025-02-10</td>\n",
              "      <td>2025-02-15</td>\n",
              "      <td>1750.00</td>\n",
              "      <td>R$ 250,00</td>\n",
              "      <td>5</td>\n",
              "    </tr>\n",
              "    <tr>\n",
              "      <th>13</th>\n",
              "      <td>14</td>\n",
              "      <td>1270</td>\n",
              "      <td>Civic</td>\n",
              "      <td>2025-02-12</td>\n",
              "      <td>2025-02-17</td>\n",
              "      <td>2000.00</td>\n",
              "      <td>R$ 250,00</td>\n",
              "      <td>5</td>\n",
              "    </tr>\n",
              "    <tr>\n",
              "      <th>14</th>\n",
              "      <td>15</td>\n",
              "      <td>1300</td>\n",
              "      <td>L200</td>\n",
              "      <td>2025-02-14</td>\n",
              "      <td>2025-02-15</td>\n",
              "      <td>500.00</td>\n",
              "      <td>R$ 300,00</td>\n",
              "      <td>1</td>\n",
              "    </tr>\n",
              "    <tr>\n",
              "      <th>15</th>\n",
              "      <td>16</td>\n",
              "      <td>1375</td>\n",
              "      <td>Compass</td>\n",
              "      <td>2025-02-16</td>\n",
              "      <td>2025-02-21</td>\n",
              "      <td>3600.00</td>\n",
              "      <td>R$ 400,00</td>\n",
              "      <td>5</td>\n",
              "    </tr>\n",
              "    <tr>\n",
              "      <th>16</th>\n",
              "      <td>17</td>\n",
              "      <td>1005</td>\n",
              "      <td>Onix</td>\n",
              "      <td>2025-02-18</td>\n",
              "      <td>2025-02-19</td>\n",
              "      <td>400.00</td>\n",
              "      <td>R$ 150,00</td>\n",
              "      <td>1</td>\n",
              "    </tr>\n",
              "    <tr>\n",
              "      <th>17</th>\n",
              "      <td>18</td>\n",
              "      <td>1150</td>\n",
              "      <td>Tracker</td>\n",
              "      <td>2025-02-20</td>\n",
              "      <td>2025-02-25</td>\n",
              "      <td>1925.00</td>\n",
              "      <td>R$ 250,00</td>\n",
              "      <td>5</td>\n",
              "    </tr>\n",
              "    <tr>\n",
              "      <th>18</th>\n",
              "      <td>19</td>\n",
              "      <td>1105</td>\n",
              "      <td>T-Cross</td>\n",
              "      <td>2025-02-22</td>\n",
              "      <td>2025-02-26</td>\n",
              "      <td>1300.00</td>\n",
              "      <td>R$ 200,00</td>\n",
              "      <td>4</td>\n",
              "    </tr>\n",
              "    <tr>\n",
              "      <th>19</th>\n",
              "      <td>20</td>\n",
              "      <td>1023</td>\n",
              "      <td>Civic</td>\n",
              "      <td>2025-02-20</td>\n",
              "      <td>2025-02-28</td>\n",
              "      <td>3850.00</td>\n",
              "      <td>R$ 250,00</td>\n",
              "      <td>8</td>\n",
              "    </tr>\n",
              "  </tbody>\n",
              "</table>\n",
              "</div>"
            ],
            "text/plain": [
              "    idTransacao  idCliente   modelo  dtAluguel dtDevolucao  vlLocacao  \\\n",
              "0             1       1023     Onix 2025-01-05  2025-01-10    1250.00   \n",
              "1             2       1045     HB20 2025-01-07  2025-01-12    1400.00   \n",
              "2             3       1102  Tracker 2025-01-10  2025-01-15    1750.50   \n",
              "3             4       1150  T-Cross 2025-01-12  2025-01-16    1120.75   \n",
              "4             5       1201    Civic 2025-01-15  2025-01-17     800.00   \n",
              "5             6       1254    Civic 2025-01-18  2025-01-31    4525.25   \n",
              "6             7       1300     L200 2025-01-20  2025-01-29    4875.00   \n",
              "7             8       1356  Compass 2025-01-22  2025-01-28    3400.60   \n",
              "8             9       1025     Onix 2025-02-01  2025-02-05    1000.00   \n",
              "9            10       1023     HB20 2025-02-03  2025-02-07    1120.00   \n",
              "10           11       1122  Tracker 2025-02-05  2025-02-07     425.75   \n",
              "11           12       1177  T-Cross 2025-02-08  2025-02-12    1240.50   \n",
              "12           13       1225    Civic 2025-02-10  2025-02-15    1750.00   \n",
              "13           14       1270    Civic 2025-02-12  2025-02-17    2000.00   \n",
              "14           15       1300     L200 2025-02-14  2025-02-15     500.00   \n",
              "15           16       1375  Compass 2025-02-16  2025-02-21    3600.00   \n",
              "16           17       1005     Onix 2025-02-18  2025-02-19     400.00   \n",
              "17           18       1150  Tracker 2025-02-20  2025-02-25    1925.00   \n",
              "18           19       1105  T-Cross 2025-02-22  2025-02-26    1300.00   \n",
              "19           20       1023    Civic 2025-02-20  2025-02-28    3850.00   \n",
              "\n",
              "   vlTaxaAdministrativa  duracaoDias  \n",
              "0             R$ 150,00            5  \n",
              "1             R$ 150,00            5  \n",
              "2             R$ 200,00            5  \n",
              "3             R$ 200,00            4  \n",
              "4             R$ 250,00            2  \n",
              "5             R$ 250,00           13  \n",
              "6             R$ 300,00            9  \n",
              "7             R$ 400,00            6  \n",
              "8             R$ 150,00            4  \n",
              "9             R$ 150,00            4  \n",
              "10            R$ 200,00            2  \n",
              "11            R$ 200,00            4  \n",
              "12            R$ 250,00            5  \n",
              "13            R$ 250,00            5  \n",
              "14            R$ 300,00            1  \n",
              "15            R$ 400,00            5  \n",
              "16            R$ 150,00            1  \n",
              "17            R$ 250,00            5  \n",
              "18            R$ 200,00            4  \n",
              "19            R$ 250,00            8  "
            ]
          },
          "execution_count": 17,
          "metadata": {},
          "output_type": "execute_result"
        }
      ],
      "source": [
        "df.head(20)"
      ]
    },
    {
      "cell_type": "code",
      "execution_count": 18,
      "metadata": {
        "id": "ZBiSUhmIUFhe"
      },
      "outputs": [],
      "source": [
        "df['vlDia'] = (df['vlLocacao'] / df['duracaoDias']).round(2)"
      ]
    },
    {
      "cell_type": "code",
      "execution_count": 19,
      "metadata": {
        "colab": {
          "base_uri": "https://localhost:8080/",
          "height": 677
        },
        "id": "oBMZRsdWVLVS",
        "outputId": "3bfda530-dac1-4ef4-d640-779a8e73d04d"
      },
      "outputs": [
        {
          "data": {
            "text/html": [
              "<div>\n",
              "<style scoped>\n",
              "    .dataframe tbody tr th:only-of-type {\n",
              "        vertical-align: middle;\n",
              "    }\n",
              "\n",
              "    .dataframe tbody tr th {\n",
              "        vertical-align: top;\n",
              "    }\n",
              "\n",
              "    .dataframe thead th {\n",
              "        text-align: right;\n",
              "    }\n",
              "</style>\n",
              "<table border=\"1\" class=\"dataframe\">\n",
              "  <thead>\n",
              "    <tr style=\"text-align: right;\">\n",
              "      <th></th>\n",
              "      <th>idTransacao</th>\n",
              "      <th>idCliente</th>\n",
              "      <th>modelo</th>\n",
              "      <th>dtAluguel</th>\n",
              "      <th>dtDevolucao</th>\n",
              "      <th>vlLocacao</th>\n",
              "      <th>vlTaxaAdministrativa</th>\n",
              "      <th>duracaoDias</th>\n",
              "      <th>vlDia</th>\n",
              "    </tr>\n",
              "  </thead>\n",
              "  <tbody>\n",
              "    <tr>\n",
              "      <th>0</th>\n",
              "      <td>1</td>\n",
              "      <td>1023</td>\n",
              "      <td>Onix</td>\n",
              "      <td>2025-01-05</td>\n",
              "      <td>2025-01-10</td>\n",
              "      <td>1250.00</td>\n",
              "      <td>R$ 150,00</td>\n",
              "      <td>5</td>\n",
              "      <td>250.00</td>\n",
              "    </tr>\n",
              "    <tr>\n",
              "      <th>1</th>\n",
              "      <td>2</td>\n",
              "      <td>1045</td>\n",
              "      <td>HB20</td>\n",
              "      <td>2025-01-07</td>\n",
              "      <td>2025-01-12</td>\n",
              "      <td>1400.00</td>\n",
              "      <td>R$ 150,00</td>\n",
              "      <td>5</td>\n",
              "      <td>280.00</td>\n",
              "    </tr>\n",
              "    <tr>\n",
              "      <th>2</th>\n",
              "      <td>3</td>\n",
              "      <td>1102</td>\n",
              "      <td>Tracker</td>\n",
              "      <td>2025-01-10</td>\n",
              "      <td>2025-01-15</td>\n",
              "      <td>1750.50</td>\n",
              "      <td>R$ 200,00</td>\n",
              "      <td>5</td>\n",
              "      <td>350.10</td>\n",
              "    </tr>\n",
              "    <tr>\n",
              "      <th>3</th>\n",
              "      <td>4</td>\n",
              "      <td>1150</td>\n",
              "      <td>T-Cross</td>\n",
              "      <td>2025-01-12</td>\n",
              "      <td>2025-01-16</td>\n",
              "      <td>1120.75</td>\n",
              "      <td>R$ 200,00</td>\n",
              "      <td>4</td>\n",
              "      <td>280.19</td>\n",
              "    </tr>\n",
              "    <tr>\n",
              "      <th>4</th>\n",
              "      <td>5</td>\n",
              "      <td>1201</td>\n",
              "      <td>Civic</td>\n",
              "      <td>2025-01-15</td>\n",
              "      <td>2025-01-17</td>\n",
              "      <td>800.00</td>\n",
              "      <td>R$ 250,00</td>\n",
              "      <td>2</td>\n",
              "      <td>400.00</td>\n",
              "    </tr>\n",
              "    <tr>\n",
              "      <th>5</th>\n",
              "      <td>6</td>\n",
              "      <td>1254</td>\n",
              "      <td>Civic</td>\n",
              "      <td>2025-01-18</td>\n",
              "      <td>2025-01-31</td>\n",
              "      <td>4525.25</td>\n",
              "      <td>R$ 250,00</td>\n",
              "      <td>13</td>\n",
              "      <td>348.10</td>\n",
              "    </tr>\n",
              "    <tr>\n",
              "      <th>6</th>\n",
              "      <td>7</td>\n",
              "      <td>1300</td>\n",
              "      <td>L200</td>\n",
              "      <td>2025-01-20</td>\n",
              "      <td>2025-01-29</td>\n",
              "      <td>4875.00</td>\n",
              "      <td>R$ 300,00</td>\n",
              "      <td>9</td>\n",
              "      <td>541.67</td>\n",
              "    </tr>\n",
              "    <tr>\n",
              "      <th>7</th>\n",
              "      <td>8</td>\n",
              "      <td>1356</td>\n",
              "      <td>Compass</td>\n",
              "      <td>2025-01-22</td>\n",
              "      <td>2025-01-28</td>\n",
              "      <td>3400.60</td>\n",
              "      <td>R$ 400,00</td>\n",
              "      <td>6</td>\n",
              "      <td>566.77</td>\n",
              "    </tr>\n",
              "    <tr>\n",
              "      <th>8</th>\n",
              "      <td>9</td>\n",
              "      <td>1025</td>\n",
              "      <td>Onix</td>\n",
              "      <td>2025-02-01</td>\n",
              "      <td>2025-02-05</td>\n",
              "      <td>1000.00</td>\n",
              "      <td>R$ 150,00</td>\n",
              "      <td>4</td>\n",
              "      <td>250.00</td>\n",
              "    </tr>\n",
              "    <tr>\n",
              "      <th>9</th>\n",
              "      <td>10</td>\n",
              "      <td>1023</td>\n",
              "      <td>HB20</td>\n",
              "      <td>2025-02-03</td>\n",
              "      <td>2025-02-07</td>\n",
              "      <td>1120.00</td>\n",
              "      <td>R$ 150,00</td>\n",
              "      <td>4</td>\n",
              "      <td>280.00</td>\n",
              "    </tr>\n",
              "    <tr>\n",
              "      <th>10</th>\n",
              "      <td>11</td>\n",
              "      <td>1122</td>\n",
              "      <td>Tracker</td>\n",
              "      <td>2025-02-05</td>\n",
              "      <td>2025-02-07</td>\n",
              "      <td>425.75</td>\n",
              "      <td>R$ 200,00</td>\n",
              "      <td>2</td>\n",
              "      <td>212.88</td>\n",
              "    </tr>\n",
              "    <tr>\n",
              "      <th>11</th>\n",
              "      <td>12</td>\n",
              "      <td>1177</td>\n",
              "      <td>T-Cross</td>\n",
              "      <td>2025-02-08</td>\n",
              "      <td>2025-02-12</td>\n",
              "      <td>1240.50</td>\n",
              "      <td>R$ 200,00</td>\n",
              "      <td>4</td>\n",
              "      <td>310.12</td>\n",
              "    </tr>\n",
              "    <tr>\n",
              "      <th>12</th>\n",
              "      <td>13</td>\n",
              "      <td>1225</td>\n",
              "      <td>Civic</td>\n",
              "      <td>2025-02-10</td>\n",
              "      <td>2025-02-15</td>\n",
              "      <td>1750.00</td>\n",
              "      <td>R$ 250,00</td>\n",
              "      <td>5</td>\n",
              "      <td>350.00</td>\n",
              "    </tr>\n",
              "    <tr>\n",
              "      <th>13</th>\n",
              "      <td>14</td>\n",
              "      <td>1270</td>\n",
              "      <td>Civic</td>\n",
              "      <td>2025-02-12</td>\n",
              "      <td>2025-02-17</td>\n",
              "      <td>2000.00</td>\n",
              "      <td>R$ 250,00</td>\n",
              "      <td>5</td>\n",
              "      <td>400.00</td>\n",
              "    </tr>\n",
              "    <tr>\n",
              "      <th>14</th>\n",
              "      <td>15</td>\n",
              "      <td>1300</td>\n",
              "      <td>L200</td>\n",
              "      <td>2025-02-14</td>\n",
              "      <td>2025-02-15</td>\n",
              "      <td>500.00</td>\n",
              "      <td>R$ 300,00</td>\n",
              "      <td>1</td>\n",
              "      <td>500.00</td>\n",
              "    </tr>\n",
              "    <tr>\n",
              "      <th>15</th>\n",
              "      <td>16</td>\n",
              "      <td>1375</td>\n",
              "      <td>Compass</td>\n",
              "      <td>2025-02-16</td>\n",
              "      <td>2025-02-21</td>\n",
              "      <td>3600.00</td>\n",
              "      <td>R$ 400,00</td>\n",
              "      <td>5</td>\n",
              "      <td>720.00</td>\n",
              "    </tr>\n",
              "    <tr>\n",
              "      <th>16</th>\n",
              "      <td>17</td>\n",
              "      <td>1005</td>\n",
              "      <td>Onix</td>\n",
              "      <td>2025-02-18</td>\n",
              "      <td>2025-02-19</td>\n",
              "      <td>400.00</td>\n",
              "      <td>R$ 150,00</td>\n",
              "      <td>1</td>\n",
              "      <td>400.00</td>\n",
              "    </tr>\n",
              "    <tr>\n",
              "      <th>17</th>\n",
              "      <td>18</td>\n",
              "      <td>1150</td>\n",
              "      <td>Tracker</td>\n",
              "      <td>2025-02-20</td>\n",
              "      <td>2025-02-25</td>\n",
              "      <td>1925.00</td>\n",
              "      <td>R$ 250,00</td>\n",
              "      <td>5</td>\n",
              "      <td>385.00</td>\n",
              "    </tr>\n",
              "    <tr>\n",
              "      <th>18</th>\n",
              "      <td>19</td>\n",
              "      <td>1105</td>\n",
              "      <td>T-Cross</td>\n",
              "      <td>2025-02-22</td>\n",
              "      <td>2025-02-26</td>\n",
              "      <td>1300.00</td>\n",
              "      <td>R$ 200,00</td>\n",
              "      <td>4</td>\n",
              "      <td>325.00</td>\n",
              "    </tr>\n",
              "    <tr>\n",
              "      <th>19</th>\n",
              "      <td>20</td>\n",
              "      <td>1023</td>\n",
              "      <td>Civic</td>\n",
              "      <td>2025-02-20</td>\n",
              "      <td>2025-02-28</td>\n",
              "      <td>3850.00</td>\n",
              "      <td>R$ 250,00</td>\n",
              "      <td>8</td>\n",
              "      <td>481.25</td>\n",
              "    </tr>\n",
              "  </tbody>\n",
              "</table>\n",
              "</div>"
            ],
            "text/plain": [
              "    idTransacao  idCliente   modelo  dtAluguel dtDevolucao  vlLocacao  \\\n",
              "0             1       1023     Onix 2025-01-05  2025-01-10    1250.00   \n",
              "1             2       1045     HB20 2025-01-07  2025-01-12    1400.00   \n",
              "2             3       1102  Tracker 2025-01-10  2025-01-15    1750.50   \n",
              "3             4       1150  T-Cross 2025-01-12  2025-01-16    1120.75   \n",
              "4             5       1201    Civic 2025-01-15  2025-01-17     800.00   \n",
              "5             6       1254    Civic 2025-01-18  2025-01-31    4525.25   \n",
              "6             7       1300     L200 2025-01-20  2025-01-29    4875.00   \n",
              "7             8       1356  Compass 2025-01-22  2025-01-28    3400.60   \n",
              "8             9       1025     Onix 2025-02-01  2025-02-05    1000.00   \n",
              "9            10       1023     HB20 2025-02-03  2025-02-07    1120.00   \n",
              "10           11       1122  Tracker 2025-02-05  2025-02-07     425.75   \n",
              "11           12       1177  T-Cross 2025-02-08  2025-02-12    1240.50   \n",
              "12           13       1225    Civic 2025-02-10  2025-02-15    1750.00   \n",
              "13           14       1270    Civic 2025-02-12  2025-02-17    2000.00   \n",
              "14           15       1300     L200 2025-02-14  2025-02-15     500.00   \n",
              "15           16       1375  Compass 2025-02-16  2025-02-21    3600.00   \n",
              "16           17       1005     Onix 2025-02-18  2025-02-19     400.00   \n",
              "17           18       1150  Tracker 2025-02-20  2025-02-25    1925.00   \n",
              "18           19       1105  T-Cross 2025-02-22  2025-02-26    1300.00   \n",
              "19           20       1023    Civic 2025-02-20  2025-02-28    3850.00   \n",
              "\n",
              "   vlTaxaAdministrativa  duracaoDias   vlDia  \n",
              "0             R$ 150,00            5  250.00  \n",
              "1             R$ 150,00            5  280.00  \n",
              "2             R$ 200,00            5  350.10  \n",
              "3             R$ 200,00            4  280.19  \n",
              "4             R$ 250,00            2  400.00  \n",
              "5             R$ 250,00           13  348.10  \n",
              "6             R$ 300,00            9  541.67  \n",
              "7             R$ 400,00            6  566.77  \n",
              "8             R$ 150,00            4  250.00  \n",
              "9             R$ 150,00            4  280.00  \n",
              "10            R$ 200,00            2  212.88  \n",
              "11            R$ 200,00            4  310.12  \n",
              "12            R$ 250,00            5  350.00  \n",
              "13            R$ 250,00            5  400.00  \n",
              "14            R$ 300,00            1  500.00  \n",
              "15            R$ 400,00            5  720.00  \n",
              "16            R$ 150,00            1  400.00  \n",
              "17            R$ 250,00            5  385.00  \n",
              "18            R$ 200,00            4  325.00  \n",
              "19            R$ 250,00            8  481.25  "
            ]
          },
          "execution_count": 19,
          "metadata": {},
          "output_type": "execute_result"
        }
      ],
      "source": [
        "df.head(20)"
      ]
    },
    {
      "cell_type": "code",
      "execution_count": 20,
      "metadata": {
        "colab": {
          "base_uri": "https://localhost:8080/",
          "height": 335
        },
        "id": "ISeJQ9BRVNla",
        "outputId": "42d7c96b-b9b4-4784-f10e-fb5ab2a35fda"
      },
      "outputs": [
        {
          "data": {
            "text/plain": [
              "modelo\n",
              "Civic      395.870000\n",
              "Compass    643.385000\n",
              "HB20       280.000000\n",
              "L200       520.835000\n",
              "Onix       300.000000\n",
              "T-Cross    305.103333\n",
              "Tracker    315.993333\n",
              "Name: vlDia, dtype: float64"
            ]
          },
          "execution_count": 20,
          "metadata": {},
          "output_type": "execute_result"
        }
      ],
      "source": [
        "df.groupby('modelo')['vlDia'].mean()"
      ]
    },
    {
      "cell_type": "markdown",
      "metadata": {
        "id": "b7NcfIMNsS4Z"
      },
      "source": [
        "# **Prática - Desafio**"
      ]
    },
    {
      "cell_type": "markdown",
      "metadata": {
        "id": "Ac6GuJVH2SMW"
      },
      "source": [
        "A partir do conteúdo apresentado sobre DataFrames, Séries e demais conhecimentos em Python. Utilize o conjunto de dados sobre locação veiculas abordado até aqui e responda as seguintes perguntas. Se necessário, faça tratamentos de manipulações no DataFrame.\n",
        "\n",
        "### **Regras:**\n",
        "\n",
        "**Classificação da duração do aluguel:**\n",
        "\n",
        "*   **Curta** - Até 3 dias\n",
        "*   **Média** - 4-7\n",
        "*   **Longa** - Acima de 7 dias\n",
        "\n",
        "\n",
        "**Valor Total:**\n",
        "\n",
        "*   Soma do Total do Aluguel com a Taxa Administrativa\n",
        "\n",
        "*Repare que o campo da Taxa Administrativa precisa ser tratado para poder ser utilizado como um campo numérico*\n",
        "\n",
        "**Definição do Impacto das Taxas Administrativas na Composição do Preço:**\n",
        "\n",
        "*   **Baixa** - Menos de 8% do Valor Total\n",
        "*   **Média** - Entre 8% e 15% do Valor Total\n",
        "*   **Alta** - Acima de 15% do Valor Total\n",
        "\n",
        "**Desconto:**\n",
        "\n",
        "*   Os descontos são aplicados após o cálculo do valor total. Existem 2 tipos de desconto, e eles são acumulativos.\n",
        "\n",
        "1.   Desconto de Taxa: Caso a Classificação de Impacto das Taxas seja **Alta**, será ofertado um desconto que subtraído do valor da taxa, a deixe no patamar de 15%.\n",
        "2.   Desconto de Duração: Será ofertado um desconto de **8%** para locações de duração **Média** e **12%** para locações de duração **Longa**.\n",
        "3.   Desconto Total: Desconto de Duração + Desconto de Taxa.\n",
        "\n",
        "*Formate com 2 casas decimais*\n",
        "\n",
        "**Valor Final:**\n",
        "\n",
        "*   Total - Desconto de Taxa - Desconto de Duração\n",
        "\n",
        "**Percentual de Desconto:**\n",
        "\n",
        "*   1 - (valor_final/valor_inicial)\n",
        "\n",
        "*Formate com 1 casa decimal*\n",
        "\n",
        "**Crie scripts para responder as seguintes questões**\n",
        "\n",
        "\n",
        "\n",
        "1.    Qual é a proporção (%) de contratos curtos, médios e longos no período analisado?\n",
        "2.   Quem são os três clientes (Código Cliente) que mais geraram receita total no período? Quanto (R$) cada um gastou?\n",
        "3.   Calcule o total de desconto concedido por modelo de carro.\n",
        "4.   Ordene os aluguéis por % de desconto\n",
        "5.   Calcule o Total de Diárias e o valor médio de diária por mês de aluguel (data_aluguel)\n",
        "6.   Exporte um Excel com todos os campos originais, além das informações enriquecidas: Classificador de Duração, Desconto Total, Valor Final e Percentual de Desconto.\n",
        "\n",
        "\n",
        "\n",
        "\n"
      ]
    },
    {
      "cell_type": "markdown",
      "metadata": {
        "id": "UY4OQXttsJO2"
      },
      "source": [
        "## Regras de Negócio - Desafio"
      ]
    },
    {
      "cell_type": "code",
      "execution_count": 21,
      "metadata": {
        "id": "oGV2-vjK9rK_"
      },
      "outputs": [],
      "source": [
        "#Regra de negócios 1\n",
        "def duracaoAluguel(duracaoDias):\n",
        "    if duracaoDias <= 3:\n",
        "        return 'Curta'\n",
        "    elif 4 <= duracaoDias <= 7:\n",
        "        return 'Média'\n",
        "    else:\n",
        "        return 'Longa'\n",
        "\n",
        "df['duracaoAluguel'] = df['duracaoDias'].apply(duracaoAluguel)"
      ]
    },
    {
      "cell_type": "code",
      "execution_count": 22,
      "metadata": {
        "id": "HgxufBG8Ci1_"
      },
      "outputs": [],
      "source": [
        "#Regra de negócios 2\n",
        "#Tratamento da variável, que estava em string e foi transformada em float\n",
        "#FORMA 1 df['vlTaxaAdministrativa'] = df['vlTaxaAdministrativa'].str.replace('R\\$', '', regex=True).str.replace(',', '.', regex=False).astype(float)\n",
        "\n",
        "#fORMA 2\n",
        "df['vlTaxaAdministrativa'] = df['vlTaxaAdministrativa'].apply(lambda x: x.split('R$ ')[1].replace(',','.')).astype(float)\n",
        "\n",
        "#Criação da coluna 'vlTotal' com a soma das duas colunas de valor (locação e taxa admin)\n",
        "df['vlTotal'] = (df['vlLocacao'] + df['vlTaxaAdministrativa'])"
      ]
    },
    {
      "cell_type": "code",
      "execution_count": 23,
      "metadata": {
        "id": "bkweqXJXJ_lg"
      },
      "outputs": [],
      "source": [
        "#Regra de negócios 3\n",
        "\n",
        "# def impTaxa(impacto):\n",
        "#     if impacto ['vlTotal']/impacto['vlTaxaAdministrativa'] < 0.08:\n",
        "#         return 'Baixa'\n",
        "#     elif 0.08 <= impacto ['vlTotal']/impacto['vlTaxaAdministrativa'] <= 0.15:\n",
        "#         return 'Média'\n",
        "#     else:\n",
        "#         return 'Alta'\n",
        "\n",
        "# df['impactoTaxa'] = df.apply(impTaxa, axis = 1)\n",
        "\n",
        "\n",
        "\n",
        "df['percentTaxa'] = df['vlTaxaAdministrativa']/df['vlTotal']\n",
        "\n",
        "def impTaxa(impacto):\n",
        "\n",
        "  impacto_taxa = impacto['vlTaxaAdministrativa']/impacto ['vlTotal']\n",
        "  if impacto_taxa < 0.08:\n",
        "       return 'Baixa'\n",
        "  elif 0.08 <= impacto_taxa <= 0.15:\n",
        "        return 'Média'\n",
        "  else:\n",
        "        return 'Alta'\n",
        "\n",
        "df['impactoTaxa'] = df.apply(impTaxa, axis = 1)"
      ]
    },
    {
      "cell_type": "code",
      "execution_count": 24,
      "metadata": {
        "id": "vKBMJrzOV_AC"
      },
      "outputs": [],
      "source": [
        "#Regra de negócios 4 - parte 1\n",
        "\n",
        "def descTaxa(registro):\n",
        "\n",
        "  if registro['impactoTaxa']  != 'Alta':\n",
        "    return 0\n",
        "\n",
        "  vlTotal = registro['vlTotal']\n",
        "  taxaAlvo = vlTotal * 0.15\n",
        "\n",
        "  vlDescTaxa = registro['vlTaxaAdministrativa'] - taxaAlvo\n",
        "\n",
        "  return vlDescTaxa\n",
        "\n",
        "\n",
        "df['vlDescTaxa'] = df.apply(descTaxa, axis=1).round(2)"
      ]
    },
    {
      "cell_type": "code",
      "execution_count": 25,
      "metadata": {
        "id": "rDc9PfMyX7NY"
      },
      "outputs": [],
      "source": [
        "#Regra de negócios 4 - parte 2\n",
        "\n",
        "def descDuracao(registro):\n",
        "\n",
        "  if registro['duracaoAluguel']  == 'Média':\n",
        "    return registro['vlTotal'] * 0.08\n",
        "\n",
        "  elif registro['duracaoAluguel']  == 'Longa':\n",
        "    return registro['vlTotal'] * 0.12\n",
        "\n",
        "  return 0\n",
        "\n",
        "\n",
        "df['vlDescDuracao'] = df.apply(descDuracao, axis=1).round(2)"
      ]
    },
    {
      "cell_type": "code",
      "execution_count": 26,
      "metadata": {
        "id": "kmYTj4NMjqfT"
      },
      "outputs": [],
      "source": [
        "#Regra de negócios 4 - parte 3\n",
        "\n",
        "df['vlDescTotal'] = (df['vlDescDuracao'] + df['vlDescTaxa']).round(2)"
      ]
    },
    {
      "cell_type": "code",
      "execution_count": 27,
      "metadata": {
        "id": "RSCNRvR-lHb_"
      },
      "outputs": [],
      "source": [
        "#Regra de negócios 5\n",
        "\n",
        "df['vlFinal'] = df['vlTotal']-df['vlDescTotal']"
      ]
    },
    {
      "cell_type": "code",
      "execution_count": null,
      "metadata": {
        "id": "tgQrdn8ilrOP"
      },
      "outputs": [],
      "source": [
        "#Regra de negócios 6\n",
        "\n",
        "df['txDescTotal'] = (1-(df['vlFinal']/df['vlLocacao'])).round(2).abs()\n",
        "\n"
      ]
    },
    {
      "cell_type": "markdown",
      "metadata": {
        "id": "bvsKhlvnsCM_"
      },
      "source": [
        "## Exercícios do desafio"
      ]
    },
    {
      "cell_type": "code",
      "execution_count": null,
      "metadata": {
        "id": "QzlOpcido7aS"
      },
      "outputs": [],
      "source": [
        "#Exercício 2\n",
        "\n"
      ]
    },
    {
      "cell_type": "code",
      "execution_count": null,
      "metadata": {
        "id": "_CPxKPTHnM3e"
      },
      "outputs": [],
      "source": [
        "#Exercício 3\n",
        "\n",
        "df.groupby('modelo')['vlDescTotal'].sum().sort_values(ascending=False)"
      ]
    },
    {
      "cell_type": "code",
      "execution_count": 150,
      "metadata": {
        "colab": {
          "base_uri": "https://localhost:8080/",
          "height": 711
        },
        "id": "BZgfStt9pVNJ",
        "outputId": "f062a62c-7e40-4adc-d816-26fcc7ff1450"
      },
      "outputs": [
        {
          "data": {
            "text/html": [
              "<div>\n",
              "<style scoped>\n",
              "    .dataframe tbody tr th:only-of-type {\n",
              "        vertical-align: middle;\n",
              "    }\n",
              "\n",
              "    .dataframe tbody tr th {\n",
              "        vertical-align: top;\n",
              "    }\n",
              "\n",
              "    .dataframe thead th {\n",
              "        text-align: right;\n",
              "    }\n",
              "</style>\n",
              "<table border=\"1\" class=\"dataframe\">\n",
              "  <thead>\n",
              "    <tr style=\"text-align: right;\">\n",
              "      <th></th>\n",
              "      <th>txDescTotal</th>\n",
              "    </tr>\n",
              "  </thead>\n",
              "  <tbody>\n",
              "    <tr>\n",
              "      <th>14</th>\n",
              "      <td>24.0</td>\n",
              "    </tr>\n",
              "    <tr>\n",
              "      <th>10</th>\n",
              "      <td>22.0</td>\n",
              "    </tr>\n",
              "    <tr>\n",
              "      <th>16</th>\n",
              "      <td>21.0</td>\n",
              "    </tr>\n",
              "    <tr>\n",
              "      <th>4</th>\n",
              "      <td>20.0</td>\n",
              "    </tr>\n",
              "    <tr>\n",
              "      <th>3</th>\n",
              "      <td>8.0</td>\n",
              "    </tr>\n",
              "    <tr>\n",
              "      <th>11</th>\n",
              "      <td>7.0</td>\n",
              "    </tr>\n",
              "    <tr>\n",
              "      <th>6</th>\n",
              "      <td>7.0</td>\n",
              "    </tr>\n",
              "    <tr>\n",
              "      <th>5</th>\n",
              "      <td>7.0</td>\n",
              "    </tr>\n",
              "    <tr>\n",
              "      <th>18</th>\n",
              "      <td>6.0</td>\n",
              "    </tr>\n",
              "    <tr>\n",
              "      <th>19</th>\n",
              "      <td>6.0</td>\n",
              "    </tr>\n",
              "    <tr>\n",
              "      <th>8</th>\n",
              "      <td>6.0</td>\n",
              "    </tr>\n",
              "    <tr>\n",
              "      <th>12</th>\n",
              "      <td>5.0</td>\n",
              "    </tr>\n",
              "    <tr>\n",
              "      <th>17</th>\n",
              "      <td>4.0</td>\n",
              "    </tr>\n",
              "    <tr>\n",
              "      <th>9</th>\n",
              "      <td>4.0</td>\n",
              "    </tr>\n",
              "    <tr>\n",
              "      <th>0</th>\n",
              "      <td>3.0</td>\n",
              "    </tr>\n",
              "    <tr>\n",
              "      <th>2</th>\n",
              "      <td>3.0</td>\n",
              "    </tr>\n",
              "    <tr>\n",
              "      <th>13</th>\n",
              "      <td>3.0</td>\n",
              "    </tr>\n",
              "    <tr>\n",
              "      <th>7</th>\n",
              "      <td>3.0</td>\n",
              "    </tr>\n",
              "    <tr>\n",
              "      <th>1</th>\n",
              "      <td>2.0</td>\n",
              "    </tr>\n",
              "    <tr>\n",
              "      <th>15</th>\n",
              "      <td>2.0</td>\n",
              "    </tr>\n",
              "  </tbody>\n",
              "</table>\n",
              "</div><br><label><b>dtype:</b> float64</label>"
            ],
            "text/plain": [
              "14    24.0\n",
              "10    22.0\n",
              "16    21.0\n",
              "4     20.0\n",
              "3      8.0\n",
              "11     7.0\n",
              "6      7.0\n",
              "5      7.0\n",
              "18     6.0\n",
              "19     6.0\n",
              "8      6.0\n",
              "12     5.0\n",
              "17     4.0\n",
              "9      4.0\n",
              "0      3.0\n",
              "2      3.0\n",
              "13     3.0\n",
              "7      3.0\n",
              "1      2.0\n",
              "15     2.0\n",
              "Name: txDescTotal, dtype: float64"
            ]
          },
          "execution_count": 150,
          "metadata": {},
          "output_type": "execute_result"
        }
      ],
      "source": [
        "#Exercício 4\n",
        "\n",
        "(df['txDescTotal']*100).sort_values(ascending=False)"
      ]
    }
  ],
  "metadata": {
    "colab": {
      "collapsed_sections": [
        "b7NcfIMNsS4Z",
        "UY4OQXttsJO2",
        "bvsKhlvnsCM_"
      ],
      "provenance": []
    },
    "kernelspec": {
      "display_name": "Python 3",
      "language": "python",
      "name": "python3"
    },
    "language_info": {
      "codemirror_mode": {
        "name": "ipython",
        "version": 3
      },
      "file_extension": ".py",
      "mimetype": "text/x-python",
      "name": "python",
      "nbconvert_exporter": "python",
      "pygments_lexer": "ipython3",
      "version": "3.13.1"
    }
  },
  "nbformat": 4,
  "nbformat_minor": 0
}
