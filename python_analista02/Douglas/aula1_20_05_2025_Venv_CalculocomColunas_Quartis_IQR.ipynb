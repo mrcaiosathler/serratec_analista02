{
 "cells": [
  {
   "cell_type": "markdown",
   "metadata": {},
   "source": [
    "**Virtualização de Máquina no Ambiente Python (venv)**\n",
    "\n",
    "# Comandos Básicos (executados no terminal)\n",
    "\n",
    "- `python -m venv residenciadados` → Cria um novo ambiente virtual chamado 'residenciadados'  \n",
    "- `residenciadados\\Scripts\\activate` → Ativa o ambiente virtual (Windows)  \n",
    "- `deactivate` → Desativa o ambiente virtual atual  \n",
    "\n",
    "## Gerenciamento de Pacotes (executados no terminal)\n",
    "\n",
    "- `pip install faker` → Instala o pacote Faker no ambiente ativo  \n",
    "- `pip freeze` → Lista todos os pacotes instalados no ambiente  \n",
    "- `pip freeze > requirements.txt` → Exporta os pacotes para requirements.txt  \n",
    "- `pip install -r requirements.txt` → Instala todos os pacotes do arquivo requirements  \n",
    "\n",
    "## Por que utilizar máquinas virtuais?\n",
    "\n",
    "1. Sempre ative o ambiente antes de instalar pacotes para garantir padrões de desenvolvimento; \n",
    "2. O arquivo requirements.txt facilita a replicação do ambiente entre diferentes máquinas."
   ]
  },
  {
   "cell_type": "markdown",
   "metadata": {},
   "source": [
    "## Atividade: \n",
    "\n",
    "- Aplique os comandos de virtualização e de gerenciamento, demonstrando seus funcionamentos por compartilhamento de telas ou print no chat da reunião."
   ]
  },
  {
   "cell_type": "markdown",
   "metadata": {},
   "source": [
    "** Cálculo de Colunas em Dataframe e Geração de Arquivos para Uso Externo:**"
   ]
  },
  {
   "cell_type": "code",
   "execution_count": 2,
   "metadata": {},
   "outputs": [
    {
     "name": "stdout",
     "output_type": "stream",
     "text": [
      "Total de produtos: 100\n",
      "Valor total em estoque: R$ 1,392,433.55\n",
      "\n",
      "5 primeiros registros:\n"
     ]
    },
    {
     "data": {
      "text/html": [
       "<div>\n",
       "<style scoped>\n",
       "    .dataframe tbody tr th:only-of-type {\n",
       "        vertical-align: middle;\n",
       "    }\n",
       "\n",
       "    .dataframe tbody tr th {\n",
       "        vertical-align: top;\n",
       "    }\n",
       "\n",
       "    .dataframe thead th {\n",
       "        text-align: right;\n",
       "    }\n",
       "</style>\n",
       "<table border=\"1\" class=\"dataframe\">\n",
       "  <thead>\n",
       "    <tr style=\"text-align: right;\">\n",
       "      <th></th>\n",
       "      <th>mês_aquisicao</th>\n",
       "      <th>nome</th>\n",
       "      <th>tipo</th>\n",
       "      <th>preco_compra</th>\n",
       "      <th>preco_venda</th>\n",
       "      <th>estoque</th>\n",
       "      <th>lucro_unitario</th>\n",
       "      <th>valor_estoque</th>\n",
       "    </tr>\n",
       "  </thead>\n",
       "  <tbody>\n",
       "    <tr>\n",
       "      <th>0</th>\n",
       "      <td>Abril</td>\n",
       "      <td>Produto 01</td>\n",
       "      <td>Livros</td>\n",
       "      <td>488.54</td>\n",
       "      <td>1058.79</td>\n",
       "      <td>45</td>\n",
       "      <td>570.25</td>\n",
       "      <td>21984.30</td>\n",
       "    </tr>\n",
       "    <tr>\n",
       "      <th>1</th>\n",
       "      <td>Maio</td>\n",
       "      <td>Produto 02</td>\n",
       "      <td>Eletrônicos</td>\n",
       "      <td>211.41</td>\n",
       "      <td>322.64</td>\n",
       "      <td>52</td>\n",
       "      <td>111.23</td>\n",
       "      <td>10993.32</td>\n",
       "    </tr>\n",
       "    <tr>\n",
       "      <th>2</th>\n",
       "      <td>Março</td>\n",
       "      <td>Produto 03</td>\n",
       "      <td>Eletrônicos</td>\n",
       "      <td>26.19</td>\n",
       "      <td>37.70</td>\n",
       "      <td>94</td>\n",
       "      <td>11.51</td>\n",
       "      <td>2461.86</td>\n",
       "    </tr>\n",
       "    <tr>\n",
       "      <th>3</th>\n",
       "      <td>Maio</td>\n",
       "      <td>Produto 04</td>\n",
       "      <td>Eletrônicos</td>\n",
       "      <td>179.08</td>\n",
       "      <td>233.72</td>\n",
       "      <td>98</td>\n",
       "      <td>54.64</td>\n",
       "      <td>17549.84</td>\n",
       "    </tr>\n",
       "    <tr>\n",
       "      <th>4</th>\n",
       "      <td>Maio</td>\n",
       "      <td>Produto 05</td>\n",
       "      <td>Eletrônicos</td>\n",
       "      <td>320.83</td>\n",
       "      <td>563.64</td>\n",
       "      <td>59</td>\n",
       "      <td>242.81</td>\n",
       "      <td>18928.97</td>\n",
       "    </tr>\n",
       "  </tbody>\n",
       "</table>\n",
       "</div>"
      ],
      "text/plain": [
       "  mês_aquisicao        nome         tipo  preco_compra  preco_venda  estoque  \\\n",
       "0         Abril  Produto 01       Livros        488.54      1058.79       45   \n",
       "1          Maio  Produto 02  Eletrônicos        211.41       322.64       52   \n",
       "2         Março  Produto 03  Eletrônicos         26.19        37.70       94   \n",
       "3          Maio  Produto 04  Eletrônicos        179.08       233.72       98   \n",
       "4          Maio  Produto 05  Eletrônicos        320.83       563.64       59   \n",
       "\n",
       "   lucro_unitario  valor_estoque  \n",
       "0          570.25       21984.30  \n",
       "1          111.23       10993.32  \n",
       "2           11.51        2461.86  \n",
       "3           54.64       17549.84  \n",
       "4          242.81       18928.97  "
      ]
     },
     "metadata": {},
     "output_type": "display_data"
    }
   ],
   "source": [
    "import pandas as pd\n",
    "import numpy as np\n",
    "from datetime import datetime\n",
    " \n",
    "# 1. Geração de dados fictícios\n",
    "np.random.seed(42)\n",
    "meses = ['Janeiro', 'Fevereiro', 'Março', 'Abril', 'Maio', 'Junho']\n",
    "categorias = ['Eletrônicos', 'Vestuário', 'Alimentos', 'Móveis', 'Livros']\n",
    " \n",
    "dados = {\n",
    "    'mês_aquisicao': np.random.choice(meses, size=100),\n",
    "    'nome': [f'Produto {i+1:02d}' for i in range(100)],\n",
    "    'tipo': np.random.choice(categorias, size=100),\n",
    "    'preco_compra': np.round(np.random.uniform(10, 500, size=100), 2),\n",
    "    'preco_venda': lambda x: np.round(x * np.random.uniform(1.2, 2.5, size=100), 2),\n",
    "    'estoque': np.random.randint(0, 100, size=100)\n",
    "}\n",
    "dados['preco_venda'] = dados['preco_venda'](dados['preco_compra'])\n",
    " \n",
    "# 2. Criação do DataFrame\n",
    "df = pd.DataFrame(dados)\n",
    " \n",
    "# 3. Cálculo de métricas\n",
    "df['lucro_unitario'] = df['preco_venda'] - df['preco_compra']\n",
    "df['valor_estoque'] = df['preco_compra'] * df['estoque']\n",
    " \n",
    "# 4. Salvar para CSV\n",
    "df.to_csv('produtos100.csv', index=False, encoding='utf-8-sig', sep=';', decimal=',')\n",
    " \n",
    "# 5. Exemplo de análise\n",
    "print(f\"Total de produtos: {len(df)}\")\n",
    "print(f\"Valor total em estoque: R$ {df['valor_estoque'].sum():,.2f}\")\n",
    "print(\"\\n5 primeiros registros:\")\n",
    "display(df.head())\n",
    " "
   ]
  },
  {
   "cell_type": "markdown",
   "metadata": {},
   "source": [
    "# Atividade:\n",
    "\n",
    "- Crie um Dataframe de Controle de Avaliações de uma Escola, demonstrando a execução por compartilhamento de telas ou print no chat da reunião.\n",
    "- Requisitos para a criação:\n",
    "\n",
    "- 1. Número de alunos: 50;\n",
    "- 2. disciplinas: Front-end, Back-end, Cibersegurança, Big Data, Java, Python, .NET, PHP, C#;\n",
    "- 3. Colunas: nomes dos alunos, disciplinas, Nota1, Nota2, Nota3, Média, Status (Aprovado/Reprovado);\n",
    "= 4. Condição de aprovação: média igual ou superior a 7.0."
   ]
  },
  {
   "cell_type": "markdown",
   "metadata": {},
   "source": [
    "**Quartis, Intervalo Interquartil e Limites de Boxplot:**"
   ]
  },
  {
   "cell_type": "code",
   "execution_count": 1,
   "metadata": {},
   "outputs": [],
   "source": [
    "import pandas as pd\n",
    "import numpy as np\n",
    "import random"
   ]
  },
  {
   "cell_type": "code",
   "execution_count": 3,
   "metadata": {},
   "outputs": [
    {
     "name": "stdout",
     "output_type": "stream",
     "text": [
      "[47 91 95 28 23 81 57 27 97 17 59 48 59 27 19 23 92 65 70 60]\n"
     ]
    }
   ],
   "source": [
    "amostra=[random.randint(1,99) for i in range(20)]\n",
    "dados=np.array(amostra)\n",
    "print(dados)"
   ]
  },
  {
   "cell_type": "code",
   "execution_count": 8,
   "metadata": {},
   "outputs": [
    {
     "name": "stdout",
     "output_type": "stream",
     "text": [
      "Intervalo Interquartil (IQR):45.75\n",
      "Primeiro Quartil (Q1):27.0\n",
      "Segundo Quartil (Q2):58.0\n",
      "Terceiro Quartil (Q3):72.75\n"
     ]
    }
   ],
   "source": [
    "#Cálculo dos Quartis:\n",
    "\n",
    "q1=np.percentile(dados,25) # o primeiro quartil representa 25% do total da amostra\n",
    "q2=np.percentile(dados,50) # mediana pode ser interpretada como o seu segundo quartil (quartil 50)\n",
    "q3=np.percentile(dados,75) # o terceiro quartil representa 75% do total da amostra\n",
    "iqr=q3-q1 # intervalo interquartil (IQR) é a diferença entre o terceiro quartil e o primeiro quartil\n",
    "#Exibição:  \n",
    "print(f\"Intervalo Interquartil (IQR):{iqr}\")\n",
    "\n",
    "print(f\"Primeiro Quartil (Q1):{q1}\")\n",
    "print(f\"Segundo Quartil (Q2):{q2}\")\n",
    "print(f\"Terceiro Quartil (Q3):{q3}\")"
   ]
  },
  {
   "cell_type": "code",
   "execution_count": 10,
   "metadata": {},
   "outputs": [
    {
     "name": "stdout",
     "output_type": "stream",
     "text": [
      "Primeiro Quartil (Q1):27.0\n",
      "Segundo Quartil (Q2):58.0\n",
      "Terceiro Quartil (Q3):72.75\n",
      "Intervalo InterQuartil:45.75\n",
      "Limite Superior:141.375\n",
      "Limite Inferior:-41.625\n"
     ]
    }
   ],
   "source": [
    "#Cálculos para verificação do Intervalo InterQuartil (IQR) e seus Limites:\n",
    "\n",
    "iqr=q3-q1\n",
    "limite_superior=q3+(1.5*iqr)\n",
    "limite_inferior=q1-(1.5*iqr)\n",
    "\n",
    "#Resumo Estatístico:\n",
    "print(f\"Primeiro Quartil (Q1):{q1}\")\n",
    "print(f\"Segundo Quartil (Q2):{q2}\")\n",
    "print(f\"Terceiro Quartil (Q3):{q3}\")\n",
    "print(f\"Intervalo InterQuartil:{iqr}\")\n",
    "print(f\"Limite Superior:{limite_superior}\")\n",
    "print(f\"Limite Inferior:{limite_inferior}\")"
   ]
  },
  {
   "cell_type": "markdown",
   "metadata": {},
   "source": [
    "**Gráficos - Biblioteca MatPlotLib**"
   ]
  },
  {
   "cell_type": "code",
   "execution_count": 6,
   "metadata": {},
   "outputs": [],
   "source": [
    "#LEMBRE-SE: no terminal, rodar 'pip install matplotlib'\n",
    "import matplotlib.pyplot as plt"
   ]
  },
  {
   "cell_type": "code",
   "execution_count": 7,
   "metadata": {},
   "outputs": [
    {
     "data": {
      "image/png": "[encoded data removed]",
      "text/plain": [
       "<Figure size 1000x600 with 1 Axes>"
      ]
     },
     "metadata": {},
     "output_type": "display_data"
    }
   ],
   "source": [
    "plt.figure(figsize=(10,6))\n",
    "plt.bar(range(1,21),dados, color='purple')\n",
    "plt.xlabel('Índices')\n",
    "plt.ylabel('Valores Aleatórios')\n",
    "plt.title('Gráfico de Barras dos 20 Números Aleatórios')\n",
    "plt.xticks(range(1,21))\n",
    "plt.show()"
   ]
  }
 ],
 "metadata": {
  "kernelspec": {
   "display_name": "Python 3",
   "language": "python",
   "name": "python3"
  },
  "language_info": {
   "codemirror_mode": {
    "name": "ipython",
    "version": 3
   },
   "file_extension": ".py",
   "mimetype": "text/x-python",
   "name": "python",
   "nbconvert_exporter": "python",
   "pygments_lexer": "ipython3",
   "version": "3.12.0"
  },
  "orig_nbformat": 4
 },
 "nbformat": 4,
 "nbformat_minor": 2
}
